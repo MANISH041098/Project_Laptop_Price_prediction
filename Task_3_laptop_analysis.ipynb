{
 "cells": [
  {
   "cell_type": "code",
   "execution_count": 1,
   "id": "3a8ecbbb",
   "metadata": {},
   "outputs": [],
   "source": [
    "import pandas as pd \n",
    "import numpy as np\n",
    "import re"
   ]
  },
  {
   "cell_type": "code",
   "execution_count": 2,
   "id": "b5377f34",
   "metadata": {},
   "outputs": [],
   "source": [
    "df = pd.read_csv(r\"C:\\Users\\manis\\OneDrive\\Desktop\\data analysis\\Task_3_laptop_analysis\\data\\laptop_details.csv\")"
   ]
  },
  {
   "cell_type": "code",
   "execution_count": 3,
   "id": "dd7e9545",
   "metadata": {},
   "outputs": [
    {
     "data": {
      "text/html": [
       "<div>\n",
       "<style scoped>\n",
       "    .dataframe tbody tr th:only-of-type {\n",
       "        vertical-align: middle;\n",
       "    }\n",
       "\n",
       "    .dataframe tbody tr th {\n",
       "        vertical-align: top;\n",
       "    }\n",
       "\n",
       "    .dataframe thead th {\n",
       "        text-align: right;\n",
       "    }\n",
       "</style>\n",
       "<table border=\"1\" class=\"dataframe\">\n",
       "  <thead>\n",
       "    <tr style=\"text-align: right;\">\n",
       "      <th></th>\n",
       "      <th>Product</th>\n",
       "      <th>Rating</th>\n",
       "      <th>MRP</th>\n",
       "      <th>Feature</th>\n",
       "    </tr>\n",
       "  </thead>\n",
       "  <tbody>\n",
       "    <tr>\n",
       "      <th>0</th>\n",
       "      <td>Lenovo IdeaPad 3 Core i3 11th Gen - (8 GB/256 ...</td>\n",
       "      <td>4.2</td>\n",
       "      <td>₹36,990</td>\n",
       "      <td>Intel Core i3 Processor (11th Gen)8 GB DDR4 RA...</td>\n",
       "    </tr>\n",
       "    <tr>\n",
       "      <th>1</th>\n",
       "      <td>Lenovo IdeaPad 3 Core i3 11th Gen - (8 GB/512 ...</td>\n",
       "      <td>4.2</td>\n",
       "      <td>₹39,990</td>\n",
       "      <td>Intel Core i3 Processor (11th Gen)8 GB DDR4 RA...</td>\n",
       "    </tr>\n",
       "    <tr>\n",
       "      <th>2</th>\n",
       "      <td>ASUS VivoBook 15 (2022) Core i3 10th Gen - (8 ...</td>\n",
       "      <td>4.3</td>\n",
       "      <td>₹32,990</td>\n",
       "      <td>Intel Core i3 Processor (10th Gen)8 GB DDR4 RA...</td>\n",
       "    </tr>\n",
       "    <tr>\n",
       "      <th>3</th>\n",
       "      <td>HP Pavilion Ryzen 5 Hexa Core AMD R5-5600H - (...</td>\n",
       "      <td>4.4</td>\n",
       "      <td>₹49,990</td>\n",
       "      <td>AMD Ryzen 5 Hexa Core Processor8 GB DDR4 RAM64...</td>\n",
       "    </tr>\n",
       "    <tr>\n",
       "      <th>4</th>\n",
       "      <td>ASUS TUF Gaming F15 Core i5 10th Gen - (8 GB/5...</td>\n",
       "      <td>4.4</td>\n",
       "      <td>₹49,990</td>\n",
       "      <td>Intel Core i5 Processor (10th Gen)8 GB DDR4 RA...</td>\n",
       "    </tr>\n",
       "  </tbody>\n",
       "</table>\n",
       "</div>"
      ],
      "text/plain": [
       "                                             Product  Rating      MRP  \\\n",
       "0  Lenovo IdeaPad 3 Core i3 11th Gen - (8 GB/256 ...     4.2  ₹36,990   \n",
       "1  Lenovo IdeaPad 3 Core i3 11th Gen - (8 GB/512 ...     4.2  ₹39,990   \n",
       "2  ASUS VivoBook 15 (2022) Core i3 10th Gen - (8 ...     4.3  ₹32,990   \n",
       "3  HP Pavilion Ryzen 5 Hexa Core AMD R5-5600H - (...     4.4  ₹49,990   \n",
       "4  ASUS TUF Gaming F15 Core i5 10th Gen - (8 GB/5...     4.4  ₹49,990   \n",
       "\n",
       "                                             Feature  \n",
       "0  Intel Core i3 Processor (11th Gen)8 GB DDR4 RA...  \n",
       "1  Intel Core i3 Processor (11th Gen)8 GB DDR4 RA...  \n",
       "2  Intel Core i3 Processor (10th Gen)8 GB DDR4 RA...  \n",
       "3  AMD Ryzen 5 Hexa Core Processor8 GB DDR4 RAM64...  \n",
       "4  Intel Core i5 Processor (10th Gen)8 GB DDR4 RA...  "
      ]
     },
     "execution_count": 3,
     "metadata": {},
     "output_type": "execute_result"
    }
   ],
   "source": [
    "df.head()"
   ]
  },
  {
   "cell_type": "code",
   "execution_count": 4,
   "id": "c3db0c5c",
   "metadata": {},
   "outputs": [
    {
     "name": "stdout",
     "output_type": "stream",
     "text": [
      "<class 'pandas.core.frame.DataFrame'>\n",
      "RangeIndex: 720 entries, 0 to 719\n",
      "Data columns (total 4 columns):\n",
      " #   Column   Non-Null Count  Dtype  \n",
      "---  ------   --------------  -----  \n",
      " 0   Product  720 non-null    object \n",
      " 1   Rating   581 non-null    float64\n",
      " 2   MRP      720 non-null    object \n",
      " 3   Feature  720 non-null    object \n",
      "dtypes: float64(1), object(3)\n",
      "memory usage: 22.6+ KB\n"
     ]
    }
   ],
   "source": [
    "df.info()"
   ]
  },
  {
   "cell_type": "code",
   "execution_count": 5,
   "id": "3e97c877",
   "metadata": {},
   "outputs": [
    {
     "name": "stdout",
     "output_type": "stream",
     "text": [
      "Intel Core i3 Processor (11th Gen)8 GB DDR4 RAM64 bit Windows 11 Operating System256 GB SSD35.56 cm (14 inch) DisplayOffice Home and Student 20212 Year Onsite�Warranty\n",
      "Intel Core i5 Processor (10th Gen)8 GB DDR4 RAMWindows 11 Operating System512 GB SSD39.62 cm (15.6 inch) Display1 Year Onsite Warranty\n",
      "AMD Ryzen 5 Hexa Core Processor8 GB DDR4 RAM64 bit Windows 11 Operating System512 GB SSD39.62 cm (15.6 inch) DisplayMicrosoft Office Home & Student 20191 Year Onsite Warranty\n"
     ]
    }
   ],
   "source": [
    "print(df['Feature'][0])\n",
    "print(df['Feature'][4])\n",
    "print(df['Feature'][10])\n",
    "x = df['Feature'][10]"
   ]
  },
  {
   "cell_type": "code",
   "execution_count": 6,
   "id": "4c88c93b",
   "metadata": {},
   "outputs": [
    {
     "data": {
      "text/plain": [
       "['AMD Ryzen 5 Hexa Core ']"
      ]
     },
     "execution_count": 6,
     "metadata": {},
     "output_type": "execute_result"
    }
   ],
   "source": [
    "regex = r'^(?:Intel|AMD|M1)[\\s\\w]+(?=Processor)'\n",
    "\n",
    "re.findall(regex,x)"
   ]
  },
  {
   "cell_type": "code",
   "execution_count": 7,
   "id": "13e6d460",
   "metadata": {},
   "outputs": [],
   "source": [
    "df['Processor'] = df['Feature'].apply(lambda x: re.findall(regex,x))"
   ]
  },
  {
   "cell_type": "code",
   "execution_count": 8,
   "id": "3c5fd5e6",
   "metadata": {},
   "outputs": [
    {
     "data": {
      "text/html": [
       "<div>\n",
       "<style scoped>\n",
       "    .dataframe tbody tr th:only-of-type {\n",
       "        vertical-align: middle;\n",
       "    }\n",
       "\n",
       "    .dataframe tbody tr th {\n",
       "        vertical-align: top;\n",
       "    }\n",
       "\n",
       "    .dataframe thead th {\n",
       "        text-align: right;\n",
       "    }\n",
       "</style>\n",
       "<table border=\"1\" class=\"dataframe\">\n",
       "  <thead>\n",
       "    <tr style=\"text-align: right;\">\n",
       "      <th></th>\n",
       "      <th>Product</th>\n",
       "      <th>Rating</th>\n",
       "      <th>MRP</th>\n",
       "      <th>Feature</th>\n",
       "      <th>Processor</th>\n",
       "    </tr>\n",
       "  </thead>\n",
       "  <tbody>\n",
       "    <tr>\n",
       "      <th>0</th>\n",
       "      <td>Lenovo IdeaPad 3 Core i3 11th Gen - (8 GB/256 ...</td>\n",
       "      <td>4.2</td>\n",
       "      <td>₹36,990</td>\n",
       "      <td>Intel Core i3 Processor (11th Gen)8 GB DDR4 RA...</td>\n",
       "      <td>[Intel Core i3 ]</td>\n",
       "    </tr>\n",
       "    <tr>\n",
       "      <th>1</th>\n",
       "      <td>Lenovo IdeaPad 3 Core i3 11th Gen - (8 GB/512 ...</td>\n",
       "      <td>4.2</td>\n",
       "      <td>₹39,990</td>\n",
       "      <td>Intel Core i3 Processor (11th Gen)8 GB DDR4 RA...</td>\n",
       "      <td>[Intel Core i3 ]</td>\n",
       "    </tr>\n",
       "    <tr>\n",
       "      <th>2</th>\n",
       "      <td>ASUS VivoBook 15 (2022) Core i3 10th Gen - (8 ...</td>\n",
       "      <td>4.3</td>\n",
       "      <td>₹32,990</td>\n",
       "      <td>Intel Core i3 Processor (10th Gen)8 GB DDR4 RA...</td>\n",
       "      <td>[Intel Core i3 ]</td>\n",
       "    </tr>\n",
       "    <tr>\n",
       "      <th>3</th>\n",
       "      <td>HP Pavilion Ryzen 5 Hexa Core AMD R5-5600H - (...</td>\n",
       "      <td>4.4</td>\n",
       "      <td>₹49,990</td>\n",
       "      <td>AMD Ryzen 5 Hexa Core Processor8 GB DDR4 RAM64...</td>\n",
       "      <td>[AMD Ryzen 5 Hexa Core ]</td>\n",
       "    </tr>\n",
       "    <tr>\n",
       "      <th>4</th>\n",
       "      <td>ASUS TUF Gaming F15 Core i5 10th Gen - (8 GB/5...</td>\n",
       "      <td>4.4</td>\n",
       "      <td>₹49,990</td>\n",
       "      <td>Intel Core i5 Processor (10th Gen)8 GB DDR4 RA...</td>\n",
       "      <td>[Intel Core i5 ]</td>\n",
       "    </tr>\n",
       "  </tbody>\n",
       "</table>\n",
       "</div>"
      ],
      "text/plain": [
       "                                             Product  Rating      MRP  \\\n",
       "0  Lenovo IdeaPad 3 Core i3 11th Gen - (8 GB/256 ...     4.2  ₹36,990   \n",
       "1  Lenovo IdeaPad 3 Core i3 11th Gen - (8 GB/512 ...     4.2  ₹39,990   \n",
       "2  ASUS VivoBook 15 (2022) Core i3 10th Gen - (8 ...     4.3  ₹32,990   \n",
       "3  HP Pavilion Ryzen 5 Hexa Core AMD R5-5600H - (...     4.4  ₹49,990   \n",
       "4  ASUS TUF Gaming F15 Core i5 10th Gen - (8 GB/5...     4.4  ₹49,990   \n",
       "\n",
       "                                             Feature                 Processor  \n",
       "0  Intel Core i3 Processor (11th Gen)8 GB DDR4 RA...          [Intel Core i3 ]  \n",
       "1  Intel Core i3 Processor (11th Gen)8 GB DDR4 RA...          [Intel Core i3 ]  \n",
       "2  Intel Core i3 Processor (10th Gen)8 GB DDR4 RA...          [Intel Core i3 ]  \n",
       "3  AMD Ryzen 5 Hexa Core Processor8 GB DDR4 RAM64...  [AMD Ryzen 5 Hexa Core ]  \n",
       "4  Intel Core i5 Processor (10th Gen)8 GB DDR4 RA...          [Intel Core i5 ]  "
      ]
     },
     "execution_count": 8,
     "metadata": {},
     "output_type": "execute_result"
    }
   ],
   "source": [
    "df.head()"
   ]
  },
  {
   "cell_type": "code",
   "execution_count": 9,
   "id": "d47bf603",
   "metadata": {},
   "outputs": [
    {
     "data": {
      "text/plain": [
       "['8 GB']"
      ]
     },
     "execution_count": 9,
     "metadata": {},
     "output_type": "execute_result"
    }
   ],
   "source": [
    "regex = r'\\d+\\sGB(?=[\\w\\s]+RAM)'\n",
    "\n",
    "re.findall(regex,x)"
   ]
  },
  {
   "cell_type": "code",
   "execution_count": 10,
   "id": "f05b4f6d",
   "metadata": {},
   "outputs": [],
   "source": [
    "df['RAM'] = df['Feature'].apply(lambda x: re.findall(regex,x))"
   ]
  },
  {
   "cell_type": "code",
   "execution_count": 11,
   "id": "79c34f6f",
   "metadata": {},
   "outputs": [
    {
     "data": {
      "text/html": [
       "<div>\n",
       "<style scoped>\n",
       "    .dataframe tbody tr th:only-of-type {\n",
       "        vertical-align: middle;\n",
       "    }\n",
       "\n",
       "    .dataframe tbody tr th {\n",
       "        vertical-align: top;\n",
       "    }\n",
       "\n",
       "    .dataframe thead th {\n",
       "        text-align: right;\n",
       "    }\n",
       "</style>\n",
       "<table border=\"1\" class=\"dataframe\">\n",
       "  <thead>\n",
       "    <tr style=\"text-align: right;\">\n",
       "      <th></th>\n",
       "      <th>Product</th>\n",
       "      <th>Rating</th>\n",
       "      <th>MRP</th>\n",
       "      <th>Feature</th>\n",
       "      <th>Processor</th>\n",
       "      <th>RAM</th>\n",
       "    </tr>\n",
       "  </thead>\n",
       "  <tbody>\n",
       "    <tr>\n",
       "      <th>0</th>\n",
       "      <td>Lenovo IdeaPad 3 Core i3 11th Gen - (8 GB/256 ...</td>\n",
       "      <td>4.2</td>\n",
       "      <td>₹36,990</td>\n",
       "      <td>Intel Core i3 Processor (11th Gen)8 GB DDR4 RA...</td>\n",
       "      <td>[Intel Core i3 ]</td>\n",
       "      <td>[8 GB]</td>\n",
       "    </tr>\n",
       "    <tr>\n",
       "      <th>1</th>\n",
       "      <td>Lenovo IdeaPad 3 Core i3 11th Gen - (8 GB/512 ...</td>\n",
       "      <td>4.2</td>\n",
       "      <td>₹39,990</td>\n",
       "      <td>Intel Core i3 Processor (11th Gen)8 GB DDR4 RA...</td>\n",
       "      <td>[Intel Core i3 ]</td>\n",
       "      <td>[8 GB]</td>\n",
       "    </tr>\n",
       "    <tr>\n",
       "      <th>2</th>\n",
       "      <td>ASUS VivoBook 15 (2022) Core i3 10th Gen - (8 ...</td>\n",
       "      <td>4.3</td>\n",
       "      <td>₹32,990</td>\n",
       "      <td>Intel Core i3 Processor (10th Gen)8 GB DDR4 RA...</td>\n",
       "      <td>[Intel Core i3 ]</td>\n",
       "      <td>[8 GB]</td>\n",
       "    </tr>\n",
       "    <tr>\n",
       "      <th>3</th>\n",
       "      <td>HP Pavilion Ryzen 5 Hexa Core AMD R5-5600H - (...</td>\n",
       "      <td>4.4</td>\n",
       "      <td>₹49,990</td>\n",
       "      <td>AMD Ryzen 5 Hexa Core Processor8 GB DDR4 RAM64...</td>\n",
       "      <td>[AMD Ryzen 5 Hexa Core ]</td>\n",
       "      <td>[8 GB]</td>\n",
       "    </tr>\n",
       "    <tr>\n",
       "      <th>4</th>\n",
       "      <td>ASUS TUF Gaming F15 Core i5 10th Gen - (8 GB/5...</td>\n",
       "      <td>4.4</td>\n",
       "      <td>₹49,990</td>\n",
       "      <td>Intel Core i5 Processor (10th Gen)8 GB DDR4 RA...</td>\n",
       "      <td>[Intel Core i5 ]</td>\n",
       "      <td>[8 GB]</td>\n",
       "    </tr>\n",
       "  </tbody>\n",
       "</table>\n",
       "</div>"
      ],
      "text/plain": [
       "                                             Product  Rating      MRP  \\\n",
       "0  Lenovo IdeaPad 3 Core i3 11th Gen - (8 GB/256 ...     4.2  ₹36,990   \n",
       "1  Lenovo IdeaPad 3 Core i3 11th Gen - (8 GB/512 ...     4.2  ₹39,990   \n",
       "2  ASUS VivoBook 15 (2022) Core i3 10th Gen - (8 ...     4.3  ₹32,990   \n",
       "3  HP Pavilion Ryzen 5 Hexa Core AMD R5-5600H - (...     4.4  ₹49,990   \n",
       "4  ASUS TUF Gaming F15 Core i5 10th Gen - (8 GB/5...     4.4  ₹49,990   \n",
       "\n",
       "                                             Feature  \\\n",
       "0  Intel Core i3 Processor (11th Gen)8 GB DDR4 RA...   \n",
       "1  Intel Core i3 Processor (11th Gen)8 GB DDR4 RA...   \n",
       "2  Intel Core i3 Processor (10th Gen)8 GB DDR4 RA...   \n",
       "3  AMD Ryzen 5 Hexa Core Processor8 GB DDR4 RAM64...   \n",
       "4  Intel Core i5 Processor (10th Gen)8 GB DDR4 RA...   \n",
       "\n",
       "                  Processor     RAM  \n",
       "0          [Intel Core i3 ]  [8 GB]  \n",
       "1          [Intel Core i3 ]  [8 GB]  \n",
       "2          [Intel Core i3 ]  [8 GB]  \n",
       "3  [AMD Ryzen 5 Hexa Core ]  [8 GB]  \n",
       "4          [Intel Core i5 ]  [8 GB]  "
      ]
     },
     "execution_count": 11,
     "metadata": {},
     "output_type": "execute_result"
    }
   ],
   "source": [
    "df.head()"
   ]
  },
  {
   "cell_type": "code",
   "execution_count": 12,
   "id": "67eda509",
   "metadata": {},
   "outputs": [
    {
     "data": {
      "text/plain": [
       "[' DDR4 ']"
      ]
     },
     "execution_count": 12,
     "metadata": {},
     "output_type": "execute_result"
    }
   ],
   "source": [
    "regex = r'(?<=GB)[\\w\\s]+(?=RAM)'\n",
    "\n",
    "re.findall(regex,x)"
   ]
  },
  {
   "cell_type": "code",
   "execution_count": 13,
   "id": "2c426472",
   "metadata": {},
   "outputs": [],
   "source": [
    "df['RAM type'] = df['Feature'].apply(lambda x: re.findall(regex,x))"
   ]
  },
  {
   "cell_type": "code",
   "execution_count": 14,
   "id": "26f2e6ed",
   "metadata": {},
   "outputs": [
    {
     "data": {
      "text/html": [
       "<div>\n",
       "<style scoped>\n",
       "    .dataframe tbody tr th:only-of-type {\n",
       "        vertical-align: middle;\n",
       "    }\n",
       "\n",
       "    .dataframe tbody tr th {\n",
       "        vertical-align: top;\n",
       "    }\n",
       "\n",
       "    .dataframe thead th {\n",
       "        text-align: right;\n",
       "    }\n",
       "</style>\n",
       "<table border=\"1\" class=\"dataframe\">\n",
       "  <thead>\n",
       "    <tr style=\"text-align: right;\">\n",
       "      <th></th>\n",
       "      <th>Product</th>\n",
       "      <th>Rating</th>\n",
       "      <th>MRP</th>\n",
       "      <th>Feature</th>\n",
       "      <th>Processor</th>\n",
       "      <th>RAM</th>\n",
       "      <th>RAM type</th>\n",
       "    </tr>\n",
       "  </thead>\n",
       "  <tbody>\n",
       "    <tr>\n",
       "      <th>0</th>\n",
       "      <td>Lenovo IdeaPad 3 Core i3 11th Gen - (8 GB/256 ...</td>\n",
       "      <td>4.2</td>\n",
       "      <td>₹36,990</td>\n",
       "      <td>Intel Core i3 Processor (11th Gen)8 GB DDR4 RA...</td>\n",
       "      <td>[Intel Core i3 ]</td>\n",
       "      <td>[8 GB]</td>\n",
       "      <td>[ DDR4 ]</td>\n",
       "    </tr>\n",
       "    <tr>\n",
       "      <th>1</th>\n",
       "      <td>Lenovo IdeaPad 3 Core i3 11th Gen - (8 GB/512 ...</td>\n",
       "      <td>4.2</td>\n",
       "      <td>₹39,990</td>\n",
       "      <td>Intel Core i3 Processor (11th Gen)8 GB DDR4 RA...</td>\n",
       "      <td>[Intel Core i3 ]</td>\n",
       "      <td>[8 GB]</td>\n",
       "      <td>[ DDR4 ]</td>\n",
       "    </tr>\n",
       "    <tr>\n",
       "      <th>2</th>\n",
       "      <td>ASUS VivoBook 15 (2022) Core i3 10th Gen - (8 ...</td>\n",
       "      <td>4.3</td>\n",
       "      <td>₹32,990</td>\n",
       "      <td>Intel Core i3 Processor (10th Gen)8 GB DDR4 RA...</td>\n",
       "      <td>[Intel Core i3 ]</td>\n",
       "      <td>[8 GB]</td>\n",
       "      <td>[ DDR4 ]</td>\n",
       "    </tr>\n",
       "    <tr>\n",
       "      <th>3</th>\n",
       "      <td>HP Pavilion Ryzen 5 Hexa Core AMD R5-5600H - (...</td>\n",
       "      <td>4.4</td>\n",
       "      <td>₹49,990</td>\n",
       "      <td>AMD Ryzen 5 Hexa Core Processor8 GB DDR4 RAM64...</td>\n",
       "      <td>[AMD Ryzen 5 Hexa Core ]</td>\n",
       "      <td>[8 GB]</td>\n",
       "      <td>[ DDR4 ]</td>\n",
       "    </tr>\n",
       "    <tr>\n",
       "      <th>4</th>\n",
       "      <td>ASUS TUF Gaming F15 Core i5 10th Gen - (8 GB/5...</td>\n",
       "      <td>4.4</td>\n",
       "      <td>₹49,990</td>\n",
       "      <td>Intel Core i5 Processor (10th Gen)8 GB DDR4 RA...</td>\n",
       "      <td>[Intel Core i5 ]</td>\n",
       "      <td>[8 GB]</td>\n",
       "      <td>[ DDR4 ]</td>\n",
       "    </tr>\n",
       "  </tbody>\n",
       "</table>\n",
       "</div>"
      ],
      "text/plain": [
       "                                             Product  Rating      MRP  \\\n",
       "0  Lenovo IdeaPad 3 Core i3 11th Gen - (8 GB/256 ...     4.2  ₹36,990   \n",
       "1  Lenovo IdeaPad 3 Core i3 11th Gen - (8 GB/512 ...     4.2  ₹39,990   \n",
       "2  ASUS VivoBook 15 (2022) Core i3 10th Gen - (8 ...     4.3  ₹32,990   \n",
       "3  HP Pavilion Ryzen 5 Hexa Core AMD R5-5600H - (...     4.4  ₹49,990   \n",
       "4  ASUS TUF Gaming F15 Core i5 10th Gen - (8 GB/5...     4.4  ₹49,990   \n",
       "\n",
       "                                             Feature  \\\n",
       "0  Intel Core i3 Processor (11th Gen)8 GB DDR4 RA...   \n",
       "1  Intel Core i3 Processor (11th Gen)8 GB DDR4 RA...   \n",
       "2  Intel Core i3 Processor (10th Gen)8 GB DDR4 RA...   \n",
       "3  AMD Ryzen 5 Hexa Core Processor8 GB DDR4 RAM64...   \n",
       "4  Intel Core i5 Processor (10th Gen)8 GB DDR4 RA...   \n",
       "\n",
       "                  Processor     RAM  RAM type  \n",
       "0          [Intel Core i3 ]  [8 GB]  [ DDR4 ]  \n",
       "1          [Intel Core i3 ]  [8 GB]  [ DDR4 ]  \n",
       "2          [Intel Core i3 ]  [8 GB]  [ DDR4 ]  \n",
       "3  [AMD Ryzen 5 Hexa Core ]  [8 GB]  [ DDR4 ]  \n",
       "4          [Intel Core i5 ]  [8 GB]  [ DDR4 ]  "
      ]
     },
     "execution_count": 14,
     "metadata": {},
     "output_type": "execute_result"
    }
   ],
   "source": [
    "df.head()"
   ]
  },
  {
   "cell_type": "code",
   "execution_count": 15,
   "id": "c920b36c",
   "metadata": {},
   "outputs": [
    {
     "data": {
      "text/plain": [
       "['64 bit Windows 11']"
      ]
     },
     "execution_count": 15,
     "metadata": {},
     "output_type": "execute_result"
    }
   ],
   "source": [
    "regex = r'[\\d]+[\\s]bit[\\s\\w]+(?=\\sOperating)|(?:Windows)[\\w\\s]+(?=\\sOperating)'\n",
    "\n",
    "re.findall(regex,x)"
   ]
  },
  {
   "cell_type": "code",
   "execution_count": 16,
   "id": "7fc54227",
   "metadata": {},
   "outputs": [],
   "source": [
    "df['OS'] = df['Feature'].apply(lambda x: re.findall(regex,x))"
   ]
  },
  {
   "cell_type": "code",
   "execution_count": 17,
   "id": "0e8596f6",
   "metadata": {},
   "outputs": [
    {
     "data": {
      "text/html": [
       "<div>\n",
       "<style scoped>\n",
       "    .dataframe tbody tr th:only-of-type {\n",
       "        vertical-align: middle;\n",
       "    }\n",
       "\n",
       "    .dataframe tbody tr th {\n",
       "        vertical-align: top;\n",
       "    }\n",
       "\n",
       "    .dataframe thead th {\n",
       "        text-align: right;\n",
       "    }\n",
       "</style>\n",
       "<table border=\"1\" class=\"dataframe\">\n",
       "  <thead>\n",
       "    <tr style=\"text-align: right;\">\n",
       "      <th></th>\n",
       "      <th>Product</th>\n",
       "      <th>Rating</th>\n",
       "      <th>MRP</th>\n",
       "      <th>Feature</th>\n",
       "      <th>Processor</th>\n",
       "      <th>RAM</th>\n",
       "      <th>RAM type</th>\n",
       "      <th>OS</th>\n",
       "    </tr>\n",
       "  </thead>\n",
       "  <tbody>\n",
       "    <tr>\n",
       "      <th>0</th>\n",
       "      <td>Lenovo IdeaPad 3 Core i3 11th Gen - (8 GB/256 ...</td>\n",
       "      <td>4.2</td>\n",
       "      <td>₹36,990</td>\n",
       "      <td>Intel Core i3 Processor (11th Gen)8 GB DDR4 RA...</td>\n",
       "      <td>[Intel Core i3 ]</td>\n",
       "      <td>[8 GB]</td>\n",
       "      <td>[ DDR4 ]</td>\n",
       "      <td>[64 bit Windows 11]</td>\n",
       "    </tr>\n",
       "    <tr>\n",
       "      <th>1</th>\n",
       "      <td>Lenovo IdeaPad 3 Core i3 11th Gen - (8 GB/512 ...</td>\n",
       "      <td>4.2</td>\n",
       "      <td>₹39,990</td>\n",
       "      <td>Intel Core i3 Processor (11th Gen)8 GB DDR4 RA...</td>\n",
       "      <td>[Intel Core i3 ]</td>\n",
       "      <td>[8 GB]</td>\n",
       "      <td>[ DDR4 ]</td>\n",
       "      <td>[64 bit Windows 11]</td>\n",
       "    </tr>\n",
       "    <tr>\n",
       "      <th>2</th>\n",
       "      <td>ASUS VivoBook 15 (2022) Core i3 10th Gen - (8 ...</td>\n",
       "      <td>4.3</td>\n",
       "      <td>₹32,990</td>\n",
       "      <td>Intel Core i3 Processor (10th Gen)8 GB DDR4 RA...</td>\n",
       "      <td>[Intel Core i3 ]</td>\n",
       "      <td>[8 GB]</td>\n",
       "      <td>[ DDR4 ]</td>\n",
       "      <td>[64 bit Windows 11]</td>\n",
       "    </tr>\n",
       "    <tr>\n",
       "      <th>3</th>\n",
       "      <td>HP Pavilion Ryzen 5 Hexa Core AMD R5-5600H - (...</td>\n",
       "      <td>4.4</td>\n",
       "      <td>₹49,990</td>\n",
       "      <td>AMD Ryzen 5 Hexa Core Processor8 GB DDR4 RAM64...</td>\n",
       "      <td>[AMD Ryzen 5 Hexa Core ]</td>\n",
       "      <td>[8 GB]</td>\n",
       "      <td>[ DDR4 ]</td>\n",
       "      <td>[64 bit Windows 10]</td>\n",
       "    </tr>\n",
       "    <tr>\n",
       "      <th>4</th>\n",
       "      <td>ASUS TUF Gaming F15 Core i5 10th Gen - (8 GB/5...</td>\n",
       "      <td>4.4</td>\n",
       "      <td>₹49,990</td>\n",
       "      <td>Intel Core i5 Processor (10th Gen)8 GB DDR4 RA...</td>\n",
       "      <td>[Intel Core i5 ]</td>\n",
       "      <td>[8 GB]</td>\n",
       "      <td>[ DDR4 ]</td>\n",
       "      <td>[Windows 11]</td>\n",
       "    </tr>\n",
       "  </tbody>\n",
       "</table>\n",
       "</div>"
      ],
      "text/plain": [
       "                                             Product  Rating      MRP  \\\n",
       "0  Lenovo IdeaPad 3 Core i3 11th Gen - (8 GB/256 ...     4.2  ₹36,990   \n",
       "1  Lenovo IdeaPad 3 Core i3 11th Gen - (8 GB/512 ...     4.2  ₹39,990   \n",
       "2  ASUS VivoBook 15 (2022) Core i3 10th Gen - (8 ...     4.3  ₹32,990   \n",
       "3  HP Pavilion Ryzen 5 Hexa Core AMD R5-5600H - (...     4.4  ₹49,990   \n",
       "4  ASUS TUF Gaming F15 Core i5 10th Gen - (8 GB/5...     4.4  ₹49,990   \n",
       "\n",
       "                                             Feature  \\\n",
       "0  Intel Core i3 Processor (11th Gen)8 GB DDR4 RA...   \n",
       "1  Intel Core i3 Processor (11th Gen)8 GB DDR4 RA...   \n",
       "2  Intel Core i3 Processor (10th Gen)8 GB DDR4 RA...   \n",
       "3  AMD Ryzen 5 Hexa Core Processor8 GB DDR4 RAM64...   \n",
       "4  Intel Core i5 Processor (10th Gen)8 GB DDR4 RA...   \n",
       "\n",
       "                  Processor     RAM  RAM type                   OS  \n",
       "0          [Intel Core i3 ]  [8 GB]  [ DDR4 ]  [64 bit Windows 11]  \n",
       "1          [Intel Core i3 ]  [8 GB]  [ DDR4 ]  [64 bit Windows 11]  \n",
       "2          [Intel Core i3 ]  [8 GB]  [ DDR4 ]  [64 bit Windows 11]  \n",
       "3  [AMD Ryzen 5 Hexa Core ]  [8 GB]  [ DDR4 ]  [64 bit Windows 10]  \n",
       "4          [Intel Core i5 ]  [8 GB]  [ DDR4 ]         [Windows 11]  "
      ]
     },
     "execution_count": 17,
     "metadata": {},
     "output_type": "execute_result"
    }
   ],
   "source": [
    "df.head()"
   ]
  },
  {
   "cell_type": "code",
   "execution_count": 18,
   "id": "b5206fa9",
   "metadata": {},
   "outputs": [
    {
     "data": {
      "text/plain": [
       "['512 GB SSD']"
      ]
     },
     "execution_count": 18,
     "metadata": {},
     "output_type": "execute_result"
    }
   ],
   "source": [
    "regex = r'\\d+\\s(?:GB|TB)\\s(?:SSD|HDD)'\n",
    "\n",
    "re.findall(regex,x)"
   ]
  },
  {
   "cell_type": "code",
   "execution_count": 19,
   "id": "247980a1",
   "metadata": {},
   "outputs": [],
   "source": [
    "df['Storage'] = df['Feature'].apply(lambda x: re.findall(regex,x))"
   ]
  },
  {
   "cell_type": "code",
   "execution_count": 20,
   "id": "6514fa2d",
   "metadata": {},
   "outputs": [
    {
     "data": {
      "text/html": [
       "<div>\n",
       "<style scoped>\n",
       "    .dataframe tbody tr th:only-of-type {\n",
       "        vertical-align: middle;\n",
       "    }\n",
       "\n",
       "    .dataframe tbody tr th {\n",
       "        vertical-align: top;\n",
       "    }\n",
       "\n",
       "    .dataframe thead th {\n",
       "        text-align: right;\n",
       "    }\n",
       "</style>\n",
       "<table border=\"1\" class=\"dataframe\">\n",
       "  <thead>\n",
       "    <tr style=\"text-align: right;\">\n",
       "      <th></th>\n",
       "      <th>Product</th>\n",
       "      <th>Rating</th>\n",
       "      <th>MRP</th>\n",
       "      <th>Feature</th>\n",
       "      <th>Processor</th>\n",
       "      <th>RAM</th>\n",
       "      <th>RAM type</th>\n",
       "      <th>OS</th>\n",
       "      <th>Storage</th>\n",
       "    </tr>\n",
       "  </thead>\n",
       "  <tbody>\n",
       "    <tr>\n",
       "      <th>0</th>\n",
       "      <td>Lenovo IdeaPad 3 Core i3 11th Gen - (8 GB/256 ...</td>\n",
       "      <td>4.2</td>\n",
       "      <td>₹36,990</td>\n",
       "      <td>Intel Core i3 Processor (11th Gen)8 GB DDR4 RA...</td>\n",
       "      <td>[Intel Core i3 ]</td>\n",
       "      <td>[8 GB]</td>\n",
       "      <td>[ DDR4 ]</td>\n",
       "      <td>[64 bit Windows 11]</td>\n",
       "      <td>[256 GB SSD]</td>\n",
       "    </tr>\n",
       "    <tr>\n",
       "      <th>1</th>\n",
       "      <td>Lenovo IdeaPad 3 Core i3 11th Gen - (8 GB/512 ...</td>\n",
       "      <td>4.2</td>\n",
       "      <td>₹39,990</td>\n",
       "      <td>Intel Core i3 Processor (11th Gen)8 GB DDR4 RA...</td>\n",
       "      <td>[Intel Core i3 ]</td>\n",
       "      <td>[8 GB]</td>\n",
       "      <td>[ DDR4 ]</td>\n",
       "      <td>[64 bit Windows 11]</td>\n",
       "      <td>[512 GB SSD]</td>\n",
       "    </tr>\n",
       "    <tr>\n",
       "      <th>2</th>\n",
       "      <td>ASUS VivoBook 15 (2022) Core i3 10th Gen - (8 ...</td>\n",
       "      <td>4.3</td>\n",
       "      <td>₹32,990</td>\n",
       "      <td>Intel Core i3 Processor (10th Gen)8 GB DDR4 RA...</td>\n",
       "      <td>[Intel Core i3 ]</td>\n",
       "      <td>[8 GB]</td>\n",
       "      <td>[ DDR4 ]</td>\n",
       "      <td>[64 bit Windows 11]</td>\n",
       "      <td>[512 GB SSD]</td>\n",
       "    </tr>\n",
       "    <tr>\n",
       "      <th>3</th>\n",
       "      <td>HP Pavilion Ryzen 5 Hexa Core AMD R5-5600H - (...</td>\n",
       "      <td>4.4</td>\n",
       "      <td>₹49,990</td>\n",
       "      <td>AMD Ryzen 5 Hexa Core Processor8 GB DDR4 RAM64...</td>\n",
       "      <td>[AMD Ryzen 5 Hexa Core ]</td>\n",
       "      <td>[8 GB]</td>\n",
       "      <td>[ DDR4 ]</td>\n",
       "      <td>[64 bit Windows 10]</td>\n",
       "      <td>[512 GB SSD]</td>\n",
       "    </tr>\n",
       "    <tr>\n",
       "      <th>4</th>\n",
       "      <td>ASUS TUF Gaming F15 Core i5 10th Gen - (8 GB/5...</td>\n",
       "      <td>4.4</td>\n",
       "      <td>₹49,990</td>\n",
       "      <td>Intel Core i5 Processor (10th Gen)8 GB DDR4 RA...</td>\n",
       "      <td>[Intel Core i5 ]</td>\n",
       "      <td>[8 GB]</td>\n",
       "      <td>[ DDR4 ]</td>\n",
       "      <td>[Windows 11]</td>\n",
       "      <td>[512 GB SSD]</td>\n",
       "    </tr>\n",
       "  </tbody>\n",
       "</table>\n",
       "</div>"
      ],
      "text/plain": [
       "                                             Product  Rating      MRP  \\\n",
       "0  Lenovo IdeaPad 3 Core i3 11th Gen - (8 GB/256 ...     4.2  ₹36,990   \n",
       "1  Lenovo IdeaPad 3 Core i3 11th Gen - (8 GB/512 ...     4.2  ₹39,990   \n",
       "2  ASUS VivoBook 15 (2022) Core i3 10th Gen - (8 ...     4.3  ₹32,990   \n",
       "3  HP Pavilion Ryzen 5 Hexa Core AMD R5-5600H - (...     4.4  ₹49,990   \n",
       "4  ASUS TUF Gaming F15 Core i5 10th Gen - (8 GB/5...     4.4  ₹49,990   \n",
       "\n",
       "                                             Feature  \\\n",
       "0  Intel Core i3 Processor (11th Gen)8 GB DDR4 RA...   \n",
       "1  Intel Core i3 Processor (11th Gen)8 GB DDR4 RA...   \n",
       "2  Intel Core i3 Processor (10th Gen)8 GB DDR4 RA...   \n",
       "3  AMD Ryzen 5 Hexa Core Processor8 GB DDR4 RAM64...   \n",
       "4  Intel Core i5 Processor (10th Gen)8 GB DDR4 RA...   \n",
       "\n",
       "                  Processor     RAM  RAM type                   OS  \\\n",
       "0          [Intel Core i3 ]  [8 GB]  [ DDR4 ]  [64 bit Windows 11]   \n",
       "1          [Intel Core i3 ]  [8 GB]  [ DDR4 ]  [64 bit Windows 11]   \n",
       "2          [Intel Core i3 ]  [8 GB]  [ DDR4 ]  [64 bit Windows 11]   \n",
       "3  [AMD Ryzen 5 Hexa Core ]  [8 GB]  [ DDR4 ]  [64 bit Windows 10]   \n",
       "4          [Intel Core i5 ]  [8 GB]  [ DDR4 ]         [Windows 11]   \n",
       "\n",
       "        Storage  \n",
       "0  [256 GB SSD]  \n",
       "1  [512 GB SSD]  \n",
       "2  [512 GB SSD]  \n",
       "3  [512 GB SSD]  \n",
       "4  [512 GB SSD]  "
      ]
     },
     "execution_count": 20,
     "metadata": {},
     "output_type": "execute_result"
    }
   ],
   "source": [
    "df.head()"
   ]
  },
  {
   "cell_type": "code",
   "execution_count": 21,
   "id": "854d918e",
   "metadata": {},
   "outputs": [],
   "source": [
    "regex = r'^\\w+'\n",
    "\n",
    "df['Brand'] = df['Product'].apply(lambda x : re.findall(regex, x))"
   ]
  },
  {
   "cell_type": "code",
   "execution_count": 22,
   "id": "7fbcbe6c",
   "metadata": {},
   "outputs": [
    {
     "data": {
      "text/html": [
       "<div>\n",
       "<style scoped>\n",
       "    .dataframe tbody tr th:only-of-type {\n",
       "        vertical-align: middle;\n",
       "    }\n",
       "\n",
       "    .dataframe tbody tr th {\n",
       "        vertical-align: top;\n",
       "    }\n",
       "\n",
       "    .dataframe thead th {\n",
       "        text-align: right;\n",
       "    }\n",
       "</style>\n",
       "<table border=\"1\" class=\"dataframe\">\n",
       "  <thead>\n",
       "    <tr style=\"text-align: right;\">\n",
       "      <th></th>\n",
       "      <th>Product</th>\n",
       "      <th>Rating</th>\n",
       "      <th>MRP</th>\n",
       "      <th>Feature</th>\n",
       "      <th>Processor</th>\n",
       "      <th>RAM</th>\n",
       "      <th>RAM type</th>\n",
       "      <th>OS</th>\n",
       "      <th>Storage</th>\n",
       "      <th>Brand</th>\n",
       "    </tr>\n",
       "  </thead>\n",
       "  <tbody>\n",
       "    <tr>\n",
       "      <th>0</th>\n",
       "      <td>Lenovo IdeaPad 3 Core i3 11th Gen - (8 GB/256 ...</td>\n",
       "      <td>4.2</td>\n",
       "      <td>₹36,990</td>\n",
       "      <td>Intel Core i3 Processor (11th Gen)8 GB DDR4 RA...</td>\n",
       "      <td>[Intel Core i3 ]</td>\n",
       "      <td>[8 GB]</td>\n",
       "      <td>[ DDR4 ]</td>\n",
       "      <td>[64 bit Windows 11]</td>\n",
       "      <td>[256 GB SSD]</td>\n",
       "      <td>[Lenovo]</td>\n",
       "    </tr>\n",
       "    <tr>\n",
       "      <th>1</th>\n",
       "      <td>Lenovo IdeaPad 3 Core i3 11th Gen - (8 GB/512 ...</td>\n",
       "      <td>4.2</td>\n",
       "      <td>₹39,990</td>\n",
       "      <td>Intel Core i3 Processor (11th Gen)8 GB DDR4 RA...</td>\n",
       "      <td>[Intel Core i3 ]</td>\n",
       "      <td>[8 GB]</td>\n",
       "      <td>[ DDR4 ]</td>\n",
       "      <td>[64 bit Windows 11]</td>\n",
       "      <td>[512 GB SSD]</td>\n",
       "      <td>[Lenovo]</td>\n",
       "    </tr>\n",
       "    <tr>\n",
       "      <th>2</th>\n",
       "      <td>ASUS VivoBook 15 (2022) Core i3 10th Gen - (8 ...</td>\n",
       "      <td>4.3</td>\n",
       "      <td>₹32,990</td>\n",
       "      <td>Intel Core i3 Processor (10th Gen)8 GB DDR4 RA...</td>\n",
       "      <td>[Intel Core i3 ]</td>\n",
       "      <td>[8 GB]</td>\n",
       "      <td>[ DDR4 ]</td>\n",
       "      <td>[64 bit Windows 11]</td>\n",
       "      <td>[512 GB SSD]</td>\n",
       "      <td>[ASUS]</td>\n",
       "    </tr>\n",
       "    <tr>\n",
       "      <th>3</th>\n",
       "      <td>HP Pavilion Ryzen 5 Hexa Core AMD R5-5600H - (...</td>\n",
       "      <td>4.4</td>\n",
       "      <td>₹49,990</td>\n",
       "      <td>AMD Ryzen 5 Hexa Core Processor8 GB DDR4 RAM64...</td>\n",
       "      <td>[AMD Ryzen 5 Hexa Core ]</td>\n",
       "      <td>[8 GB]</td>\n",
       "      <td>[ DDR4 ]</td>\n",
       "      <td>[64 bit Windows 10]</td>\n",
       "      <td>[512 GB SSD]</td>\n",
       "      <td>[HP]</td>\n",
       "    </tr>\n",
       "    <tr>\n",
       "      <th>4</th>\n",
       "      <td>ASUS TUF Gaming F15 Core i5 10th Gen - (8 GB/5...</td>\n",
       "      <td>4.4</td>\n",
       "      <td>₹49,990</td>\n",
       "      <td>Intel Core i5 Processor (10th Gen)8 GB DDR4 RA...</td>\n",
       "      <td>[Intel Core i5 ]</td>\n",
       "      <td>[8 GB]</td>\n",
       "      <td>[ DDR4 ]</td>\n",
       "      <td>[Windows 11]</td>\n",
       "      <td>[512 GB SSD]</td>\n",
       "      <td>[ASUS]</td>\n",
       "    </tr>\n",
       "  </tbody>\n",
       "</table>\n",
       "</div>"
      ],
      "text/plain": [
       "                                             Product  Rating      MRP  \\\n",
       "0  Lenovo IdeaPad 3 Core i3 11th Gen - (8 GB/256 ...     4.2  ₹36,990   \n",
       "1  Lenovo IdeaPad 3 Core i3 11th Gen - (8 GB/512 ...     4.2  ₹39,990   \n",
       "2  ASUS VivoBook 15 (2022) Core i3 10th Gen - (8 ...     4.3  ₹32,990   \n",
       "3  HP Pavilion Ryzen 5 Hexa Core AMD R5-5600H - (...     4.4  ₹49,990   \n",
       "4  ASUS TUF Gaming F15 Core i5 10th Gen - (8 GB/5...     4.4  ₹49,990   \n",
       "\n",
       "                                             Feature  \\\n",
       "0  Intel Core i3 Processor (11th Gen)8 GB DDR4 RA...   \n",
       "1  Intel Core i3 Processor (11th Gen)8 GB DDR4 RA...   \n",
       "2  Intel Core i3 Processor (10th Gen)8 GB DDR4 RA...   \n",
       "3  AMD Ryzen 5 Hexa Core Processor8 GB DDR4 RAM64...   \n",
       "4  Intel Core i5 Processor (10th Gen)8 GB DDR4 RA...   \n",
       "\n",
       "                  Processor     RAM  RAM type                   OS  \\\n",
       "0          [Intel Core i3 ]  [8 GB]  [ DDR4 ]  [64 bit Windows 11]   \n",
       "1          [Intel Core i3 ]  [8 GB]  [ DDR4 ]  [64 bit Windows 11]   \n",
       "2          [Intel Core i3 ]  [8 GB]  [ DDR4 ]  [64 bit Windows 11]   \n",
       "3  [AMD Ryzen 5 Hexa Core ]  [8 GB]  [ DDR4 ]  [64 bit Windows 10]   \n",
       "4          [Intel Core i5 ]  [8 GB]  [ DDR4 ]         [Windows 11]   \n",
       "\n",
       "        Storage     Brand  \n",
       "0  [256 GB SSD]  [Lenovo]  \n",
       "1  [512 GB SSD]  [Lenovo]  \n",
       "2  [512 GB SSD]    [ASUS]  \n",
       "3  [512 GB SSD]      [HP]  \n",
       "4  [512 GB SSD]    [ASUS]  "
      ]
     },
     "execution_count": 22,
     "metadata": {},
     "output_type": "execute_result"
    }
   ],
   "source": [
    "df.head()"
   ]
  },
  {
   "cell_type": "code",
   "execution_count": 23,
   "id": "aed4ef38",
   "metadata": {},
   "outputs": [],
   "source": [
    "regex = r'[.\\d]+(?=\\sinch)'\n",
    "\n",
    "df['Screensize'] = df['Feature'].apply(lambda x : re.findall(regex, x))"
   ]
  },
  {
   "cell_type": "code",
   "execution_count": 24,
   "id": "2ba788b0",
   "metadata": {},
   "outputs": [
    {
     "data": {
      "text/html": [
       "<div>\n",
       "<style scoped>\n",
       "    .dataframe tbody tr th:only-of-type {\n",
       "        vertical-align: middle;\n",
       "    }\n",
       "\n",
       "    .dataframe tbody tr th {\n",
       "        vertical-align: top;\n",
       "    }\n",
       "\n",
       "    .dataframe thead th {\n",
       "        text-align: right;\n",
       "    }\n",
       "</style>\n",
       "<table border=\"1\" class=\"dataframe\">\n",
       "  <thead>\n",
       "    <tr style=\"text-align: right;\">\n",
       "      <th></th>\n",
       "      <th>Product</th>\n",
       "      <th>Rating</th>\n",
       "      <th>MRP</th>\n",
       "      <th>Feature</th>\n",
       "      <th>Processor</th>\n",
       "      <th>RAM</th>\n",
       "      <th>RAM type</th>\n",
       "      <th>OS</th>\n",
       "      <th>Storage</th>\n",
       "      <th>Brand</th>\n",
       "      <th>Screensize</th>\n",
       "    </tr>\n",
       "  </thead>\n",
       "  <tbody>\n",
       "    <tr>\n",
       "      <th>0</th>\n",
       "      <td>Lenovo IdeaPad 3 Core i3 11th Gen - (8 GB/256 ...</td>\n",
       "      <td>4.2</td>\n",
       "      <td>₹36,990</td>\n",
       "      <td>Intel Core i3 Processor (11th Gen)8 GB DDR4 RA...</td>\n",
       "      <td>[Intel Core i3 ]</td>\n",
       "      <td>[8 GB]</td>\n",
       "      <td>[ DDR4 ]</td>\n",
       "      <td>[64 bit Windows 11]</td>\n",
       "      <td>[256 GB SSD]</td>\n",
       "      <td>[Lenovo]</td>\n",
       "      <td>[14]</td>\n",
       "    </tr>\n",
       "    <tr>\n",
       "      <th>1</th>\n",
       "      <td>Lenovo IdeaPad 3 Core i3 11th Gen - (8 GB/512 ...</td>\n",
       "      <td>4.2</td>\n",
       "      <td>₹39,990</td>\n",
       "      <td>Intel Core i3 Processor (11th Gen)8 GB DDR4 RA...</td>\n",
       "      <td>[Intel Core i3 ]</td>\n",
       "      <td>[8 GB]</td>\n",
       "      <td>[ DDR4 ]</td>\n",
       "      <td>[64 bit Windows 11]</td>\n",
       "      <td>[512 GB SSD]</td>\n",
       "      <td>[Lenovo]</td>\n",
       "      <td>[15.6]</td>\n",
       "    </tr>\n",
       "    <tr>\n",
       "      <th>2</th>\n",
       "      <td>ASUS VivoBook 15 (2022) Core i3 10th Gen - (8 ...</td>\n",
       "      <td>4.3</td>\n",
       "      <td>₹32,990</td>\n",
       "      <td>Intel Core i3 Processor (10th Gen)8 GB DDR4 RA...</td>\n",
       "      <td>[Intel Core i3 ]</td>\n",
       "      <td>[8 GB]</td>\n",
       "      <td>[ DDR4 ]</td>\n",
       "      <td>[64 bit Windows 11]</td>\n",
       "      <td>[512 GB SSD]</td>\n",
       "      <td>[ASUS]</td>\n",
       "      <td>[15.6]</td>\n",
       "    </tr>\n",
       "    <tr>\n",
       "      <th>3</th>\n",
       "      <td>HP Pavilion Ryzen 5 Hexa Core AMD R5-5600H - (...</td>\n",
       "      <td>4.4</td>\n",
       "      <td>₹49,990</td>\n",
       "      <td>AMD Ryzen 5 Hexa Core Processor8 GB DDR4 RAM64...</td>\n",
       "      <td>[AMD Ryzen 5 Hexa Core ]</td>\n",
       "      <td>[8 GB]</td>\n",
       "      <td>[ DDR4 ]</td>\n",
       "      <td>[64 bit Windows 10]</td>\n",
       "      <td>[512 GB SSD]</td>\n",
       "      <td>[HP]</td>\n",
       "      <td>[15.6]</td>\n",
       "    </tr>\n",
       "    <tr>\n",
       "      <th>4</th>\n",
       "      <td>ASUS TUF Gaming F15 Core i5 10th Gen - (8 GB/5...</td>\n",
       "      <td>4.4</td>\n",
       "      <td>₹49,990</td>\n",
       "      <td>Intel Core i5 Processor (10th Gen)8 GB DDR4 RA...</td>\n",
       "      <td>[Intel Core i5 ]</td>\n",
       "      <td>[8 GB]</td>\n",
       "      <td>[ DDR4 ]</td>\n",
       "      <td>[Windows 11]</td>\n",
       "      <td>[512 GB SSD]</td>\n",
       "      <td>[ASUS]</td>\n",
       "      <td>[15.6]</td>\n",
       "    </tr>\n",
       "  </tbody>\n",
       "</table>\n",
       "</div>"
      ],
      "text/plain": [
       "                                             Product  Rating      MRP  \\\n",
       "0  Lenovo IdeaPad 3 Core i3 11th Gen - (8 GB/256 ...     4.2  ₹36,990   \n",
       "1  Lenovo IdeaPad 3 Core i3 11th Gen - (8 GB/512 ...     4.2  ₹39,990   \n",
       "2  ASUS VivoBook 15 (2022) Core i3 10th Gen - (8 ...     4.3  ₹32,990   \n",
       "3  HP Pavilion Ryzen 5 Hexa Core AMD R5-5600H - (...     4.4  ₹49,990   \n",
       "4  ASUS TUF Gaming F15 Core i5 10th Gen - (8 GB/5...     4.4  ₹49,990   \n",
       "\n",
       "                                             Feature  \\\n",
       "0  Intel Core i3 Processor (11th Gen)8 GB DDR4 RA...   \n",
       "1  Intel Core i3 Processor (11th Gen)8 GB DDR4 RA...   \n",
       "2  Intel Core i3 Processor (10th Gen)8 GB DDR4 RA...   \n",
       "3  AMD Ryzen 5 Hexa Core Processor8 GB DDR4 RAM64...   \n",
       "4  Intel Core i5 Processor (10th Gen)8 GB DDR4 RA...   \n",
       "\n",
       "                  Processor     RAM  RAM type                   OS  \\\n",
       "0          [Intel Core i3 ]  [8 GB]  [ DDR4 ]  [64 bit Windows 11]   \n",
       "1          [Intel Core i3 ]  [8 GB]  [ DDR4 ]  [64 bit Windows 11]   \n",
       "2          [Intel Core i3 ]  [8 GB]  [ DDR4 ]  [64 bit Windows 11]   \n",
       "3  [AMD Ryzen 5 Hexa Core ]  [8 GB]  [ DDR4 ]  [64 bit Windows 10]   \n",
       "4          [Intel Core i5 ]  [8 GB]  [ DDR4 ]         [Windows 11]   \n",
       "\n",
       "        Storage     Brand Screensize  \n",
       "0  [256 GB SSD]  [Lenovo]       [14]  \n",
       "1  [512 GB SSD]  [Lenovo]     [15.6]  \n",
       "2  [512 GB SSD]    [ASUS]     [15.6]  \n",
       "3  [512 GB SSD]      [HP]     [15.6]  \n",
       "4  [512 GB SSD]    [ASUS]     [15.6]  "
      ]
     },
     "execution_count": 24,
     "metadata": {},
     "output_type": "execute_result"
    }
   ],
   "source": [
    "df.head()"
   ]
  },
  {
   "cell_type": "markdown",
   "id": "b3370d1d",
   "metadata": {},
   "source": [
    "# Data cleaning"
   ]
  },
  {
   "cell_type": "code",
   "execution_count": 25,
   "id": "355f564b",
   "metadata": {},
   "outputs": [
    {
     "name": "stdout",
     "output_type": "stream",
     "text": [
      "<class 'pandas.core.frame.DataFrame'>\n",
      "RangeIndex: 720 entries, 0 to 719\n",
      "Data columns (total 11 columns):\n",
      " #   Column      Non-Null Count  Dtype  \n",
      "---  ------      --------------  -----  \n",
      " 0   Product     720 non-null    object \n",
      " 1   Rating      581 non-null    float64\n",
      " 2   MRP         720 non-null    object \n",
      " 3   Feature     720 non-null    object \n",
      " 4   Processor   720 non-null    object \n",
      " 5   RAM         720 non-null    object \n",
      " 6   RAM type    720 non-null    object \n",
      " 7   OS          720 non-null    object \n",
      " 8   Storage     720 non-null    object \n",
      " 9   Brand       720 non-null    object \n",
      " 10  Screensize  720 non-null    object \n",
      "dtypes: float64(1), object(10)\n",
      "memory usage: 62.0+ KB\n"
     ]
    }
   ],
   "source": [
    "df.info()"
   ]
  },
  {
   "cell_type": "code",
   "execution_count": 26,
   "id": "d7cd8b8b",
   "metadata": {},
   "outputs": [
    {
     "data": {
      "text/plain": [
       "Product         0\n",
       "Rating        139\n",
       "MRP             0\n",
       "Feature         0\n",
       "Processor       0\n",
       "RAM             0\n",
       "RAM type        0\n",
       "OS              0\n",
       "Storage         0\n",
       "Brand           0\n",
       "Screensize      0\n",
       "dtype: int64"
      ]
     },
     "execution_count": 26,
     "metadata": {},
     "output_type": "execute_result"
    }
   ],
   "source": [
    "df.isnull().sum()"
   ]
  },
  {
   "cell_type": "code",
   "execution_count": 27,
   "id": "d8104d35",
   "metadata": {},
   "outputs": [
    {
     "name": "stdout",
     "output_type": "stream",
     "text": [
      "['8 GB']\n",
      "<class 'list'>\n",
      "8 GB\n",
      "<class 'str'>\n"
     ]
    }
   ],
   "source": [
    "print(df['RAM'][0])\n",
    "print(type(df['RAM'][0]))\n",
    "print(''.join(df['RAM'][0]))\n",
    "print(type(''.join(df['RAM'][0])))"
   ]
  },
  {
   "cell_type": "code",
   "execution_count": 28,
   "id": "e478f3a6",
   "metadata": {},
   "outputs": [],
   "source": [
    "df['Processor'] = df['Processor'].apply(lambda x: ''.join(x))\n",
    "df['RAM'] = df['RAM'].apply(lambda x: ''.join(x))\n",
    "df['OS'] = df['OS'].apply(lambda x: ''.join(x))\n",
    "df['Storage'] = df['Storage'].apply(lambda x: ''.join(x))\n",
    "df['Brand'] = df['Brand'].apply(lambda x: ''.join(x))\n",
    "df['Screensize'] = df['Screensize'].apply(lambda x: ''.join(x))\n",
    "df['RAM type'] = df['RAM type'].apply(lambda x: ''.join(x))"
   ]
  },
  {
   "cell_type": "code",
   "execution_count": 29,
   "id": "06d05763",
   "metadata": {},
   "outputs": [
    {
     "data": {
      "text/html": [
       "<div>\n",
       "<style scoped>\n",
       "    .dataframe tbody tr th:only-of-type {\n",
       "        vertical-align: middle;\n",
       "    }\n",
       "\n",
       "    .dataframe tbody tr th {\n",
       "        vertical-align: top;\n",
       "    }\n",
       "\n",
       "    .dataframe thead th {\n",
       "        text-align: right;\n",
       "    }\n",
       "</style>\n",
       "<table border=\"1\" class=\"dataframe\">\n",
       "  <thead>\n",
       "    <tr style=\"text-align: right;\">\n",
       "      <th></th>\n",
       "      <th>Product</th>\n",
       "      <th>Rating</th>\n",
       "      <th>MRP</th>\n",
       "      <th>Feature</th>\n",
       "      <th>Processor</th>\n",
       "      <th>RAM</th>\n",
       "      <th>RAM type</th>\n",
       "      <th>OS</th>\n",
       "      <th>Storage</th>\n",
       "      <th>Brand</th>\n",
       "      <th>Screensize</th>\n",
       "    </tr>\n",
       "  </thead>\n",
       "  <tbody>\n",
       "    <tr>\n",
       "      <th>0</th>\n",
       "      <td>Lenovo IdeaPad 3 Core i3 11th Gen - (8 GB/256 ...</td>\n",
       "      <td>4.2</td>\n",
       "      <td>₹36,990</td>\n",
       "      <td>Intel Core i3 Processor (11th Gen)8 GB DDR4 RA...</td>\n",
       "      <td>Intel Core i3</td>\n",
       "      <td>8 GB</td>\n",
       "      <td>DDR4</td>\n",
       "      <td>64 bit Windows 11</td>\n",
       "      <td>256 GB SSD</td>\n",
       "      <td>Lenovo</td>\n",
       "      <td>14</td>\n",
       "    </tr>\n",
       "    <tr>\n",
       "      <th>1</th>\n",
       "      <td>Lenovo IdeaPad 3 Core i3 11th Gen - (8 GB/512 ...</td>\n",
       "      <td>4.2</td>\n",
       "      <td>₹39,990</td>\n",
       "      <td>Intel Core i3 Processor (11th Gen)8 GB DDR4 RA...</td>\n",
       "      <td>Intel Core i3</td>\n",
       "      <td>8 GB</td>\n",
       "      <td>DDR4</td>\n",
       "      <td>64 bit Windows 11</td>\n",
       "      <td>512 GB SSD</td>\n",
       "      <td>Lenovo</td>\n",
       "      <td>15.6</td>\n",
       "    </tr>\n",
       "    <tr>\n",
       "      <th>2</th>\n",
       "      <td>ASUS VivoBook 15 (2022) Core i3 10th Gen - (8 ...</td>\n",
       "      <td>4.3</td>\n",
       "      <td>₹32,990</td>\n",
       "      <td>Intel Core i3 Processor (10th Gen)8 GB DDR4 RA...</td>\n",
       "      <td>Intel Core i3</td>\n",
       "      <td>8 GB</td>\n",
       "      <td>DDR4</td>\n",
       "      <td>64 bit Windows 11</td>\n",
       "      <td>512 GB SSD</td>\n",
       "      <td>ASUS</td>\n",
       "      <td>15.6</td>\n",
       "    </tr>\n",
       "    <tr>\n",
       "      <th>3</th>\n",
       "      <td>HP Pavilion Ryzen 5 Hexa Core AMD R5-5600H - (...</td>\n",
       "      <td>4.4</td>\n",
       "      <td>₹49,990</td>\n",
       "      <td>AMD Ryzen 5 Hexa Core Processor8 GB DDR4 RAM64...</td>\n",
       "      <td>AMD Ryzen 5 Hexa Core</td>\n",
       "      <td>8 GB</td>\n",
       "      <td>DDR4</td>\n",
       "      <td>64 bit Windows 10</td>\n",
       "      <td>512 GB SSD</td>\n",
       "      <td>HP</td>\n",
       "      <td>15.6</td>\n",
       "    </tr>\n",
       "    <tr>\n",
       "      <th>4</th>\n",
       "      <td>ASUS TUF Gaming F15 Core i5 10th Gen - (8 GB/5...</td>\n",
       "      <td>4.4</td>\n",
       "      <td>₹49,990</td>\n",
       "      <td>Intel Core i5 Processor (10th Gen)8 GB DDR4 RA...</td>\n",
       "      <td>Intel Core i5</td>\n",
       "      <td>8 GB</td>\n",
       "      <td>DDR4</td>\n",
       "      <td>Windows 11</td>\n",
       "      <td>512 GB SSD</td>\n",
       "      <td>ASUS</td>\n",
       "      <td>15.6</td>\n",
       "    </tr>\n",
       "  </tbody>\n",
       "</table>\n",
       "</div>"
      ],
      "text/plain": [
       "                                             Product  Rating      MRP  \\\n",
       "0  Lenovo IdeaPad 3 Core i3 11th Gen - (8 GB/256 ...     4.2  ₹36,990   \n",
       "1  Lenovo IdeaPad 3 Core i3 11th Gen - (8 GB/512 ...     4.2  ₹39,990   \n",
       "2  ASUS VivoBook 15 (2022) Core i3 10th Gen - (8 ...     4.3  ₹32,990   \n",
       "3  HP Pavilion Ryzen 5 Hexa Core AMD R5-5600H - (...     4.4  ₹49,990   \n",
       "4  ASUS TUF Gaming F15 Core i5 10th Gen - (8 GB/5...     4.4  ₹49,990   \n",
       "\n",
       "                                             Feature               Processor  \\\n",
       "0  Intel Core i3 Processor (11th Gen)8 GB DDR4 RA...          Intel Core i3    \n",
       "1  Intel Core i3 Processor (11th Gen)8 GB DDR4 RA...          Intel Core i3    \n",
       "2  Intel Core i3 Processor (10th Gen)8 GB DDR4 RA...          Intel Core i3    \n",
       "3  AMD Ryzen 5 Hexa Core Processor8 GB DDR4 RAM64...  AMD Ryzen 5 Hexa Core    \n",
       "4  Intel Core i5 Processor (10th Gen)8 GB DDR4 RA...          Intel Core i5    \n",
       "\n",
       "    RAM RAM type                 OS     Storage   Brand Screensize  \n",
       "0  8 GB    DDR4   64 bit Windows 11  256 GB SSD  Lenovo         14  \n",
       "1  8 GB    DDR4   64 bit Windows 11  512 GB SSD  Lenovo       15.6  \n",
       "2  8 GB    DDR4   64 bit Windows 11  512 GB SSD    ASUS       15.6  \n",
       "3  8 GB    DDR4   64 bit Windows 10  512 GB SSD      HP       15.6  \n",
       "4  8 GB    DDR4          Windows 11  512 GB SSD    ASUS       15.6  "
      ]
     },
     "execution_count": 29,
     "metadata": {},
     "output_type": "execute_result"
    }
   ],
   "source": [
    "df.head()"
   ]
  },
  {
   "cell_type": "code",
   "execution_count": 30,
   "id": "a8d6c0d4",
   "metadata": {},
   "outputs": [],
   "source": [
    "df['MRP'] = df['MRP'].apply(lambda x : x.replace('₹','').replace(',','')).astype(float)"
   ]
  },
  {
   "cell_type": "code",
   "execution_count": 31,
   "id": "ad47ac4b",
   "metadata": {},
   "outputs": [
    {
     "data": {
      "text/html": [
       "<div>\n",
       "<style scoped>\n",
       "    .dataframe tbody tr th:only-of-type {\n",
       "        vertical-align: middle;\n",
       "    }\n",
       "\n",
       "    .dataframe tbody tr th {\n",
       "        vertical-align: top;\n",
       "    }\n",
       "\n",
       "    .dataframe thead th {\n",
       "        text-align: right;\n",
       "    }\n",
       "</style>\n",
       "<table border=\"1\" class=\"dataframe\">\n",
       "  <thead>\n",
       "    <tr style=\"text-align: right;\">\n",
       "      <th></th>\n",
       "      <th>Product</th>\n",
       "      <th>Rating</th>\n",
       "      <th>MRP</th>\n",
       "      <th>Feature</th>\n",
       "      <th>Processor</th>\n",
       "      <th>RAM</th>\n",
       "      <th>RAM type</th>\n",
       "      <th>OS</th>\n",
       "      <th>Storage</th>\n",
       "      <th>Brand</th>\n",
       "      <th>Screensize</th>\n",
       "    </tr>\n",
       "  </thead>\n",
       "  <tbody>\n",
       "    <tr>\n",
       "      <th>0</th>\n",
       "      <td>Lenovo IdeaPad 3 Core i3 11th Gen - (8 GB/256 ...</td>\n",
       "      <td>4.2</td>\n",
       "      <td>36990.0</td>\n",
       "      <td>Intel Core i3 Processor (11th Gen)8 GB DDR4 RA...</td>\n",
       "      <td>Intel Core i3</td>\n",
       "      <td>8 GB</td>\n",
       "      <td>DDR4</td>\n",
       "      <td>64 bit Windows 11</td>\n",
       "      <td>256 GB SSD</td>\n",
       "      <td>Lenovo</td>\n",
       "      <td>14</td>\n",
       "    </tr>\n",
       "    <tr>\n",
       "      <th>1</th>\n",
       "      <td>Lenovo IdeaPad 3 Core i3 11th Gen - (8 GB/512 ...</td>\n",
       "      <td>4.2</td>\n",
       "      <td>39990.0</td>\n",
       "      <td>Intel Core i3 Processor (11th Gen)8 GB DDR4 RA...</td>\n",
       "      <td>Intel Core i3</td>\n",
       "      <td>8 GB</td>\n",
       "      <td>DDR4</td>\n",
       "      <td>64 bit Windows 11</td>\n",
       "      <td>512 GB SSD</td>\n",
       "      <td>Lenovo</td>\n",
       "      <td>15.6</td>\n",
       "    </tr>\n",
       "    <tr>\n",
       "      <th>2</th>\n",
       "      <td>ASUS VivoBook 15 (2022) Core i3 10th Gen - (8 ...</td>\n",
       "      <td>4.3</td>\n",
       "      <td>32990.0</td>\n",
       "      <td>Intel Core i3 Processor (10th Gen)8 GB DDR4 RA...</td>\n",
       "      <td>Intel Core i3</td>\n",
       "      <td>8 GB</td>\n",
       "      <td>DDR4</td>\n",
       "      <td>64 bit Windows 11</td>\n",
       "      <td>512 GB SSD</td>\n",
       "      <td>ASUS</td>\n",
       "      <td>15.6</td>\n",
       "    </tr>\n",
       "    <tr>\n",
       "      <th>3</th>\n",
       "      <td>HP Pavilion Ryzen 5 Hexa Core AMD R5-5600H - (...</td>\n",
       "      <td>4.4</td>\n",
       "      <td>49990.0</td>\n",
       "      <td>AMD Ryzen 5 Hexa Core Processor8 GB DDR4 RAM64...</td>\n",
       "      <td>AMD Ryzen 5 Hexa Core</td>\n",
       "      <td>8 GB</td>\n",
       "      <td>DDR4</td>\n",
       "      <td>64 bit Windows 10</td>\n",
       "      <td>512 GB SSD</td>\n",
       "      <td>HP</td>\n",
       "      <td>15.6</td>\n",
       "    </tr>\n",
       "    <tr>\n",
       "      <th>4</th>\n",
       "      <td>ASUS TUF Gaming F15 Core i5 10th Gen - (8 GB/5...</td>\n",
       "      <td>4.4</td>\n",
       "      <td>49990.0</td>\n",
       "      <td>Intel Core i5 Processor (10th Gen)8 GB DDR4 RA...</td>\n",
       "      <td>Intel Core i5</td>\n",
       "      <td>8 GB</td>\n",
       "      <td>DDR4</td>\n",
       "      <td>Windows 11</td>\n",
       "      <td>512 GB SSD</td>\n",
       "      <td>ASUS</td>\n",
       "      <td>15.6</td>\n",
       "    </tr>\n",
       "  </tbody>\n",
       "</table>\n",
       "</div>"
      ],
      "text/plain": [
       "                                             Product  Rating      MRP  \\\n",
       "0  Lenovo IdeaPad 3 Core i3 11th Gen - (8 GB/256 ...     4.2  36990.0   \n",
       "1  Lenovo IdeaPad 3 Core i3 11th Gen - (8 GB/512 ...     4.2  39990.0   \n",
       "2  ASUS VivoBook 15 (2022) Core i3 10th Gen - (8 ...     4.3  32990.0   \n",
       "3  HP Pavilion Ryzen 5 Hexa Core AMD R5-5600H - (...     4.4  49990.0   \n",
       "4  ASUS TUF Gaming F15 Core i5 10th Gen - (8 GB/5...     4.4  49990.0   \n",
       "\n",
       "                                             Feature               Processor  \\\n",
       "0  Intel Core i3 Processor (11th Gen)8 GB DDR4 RA...          Intel Core i3    \n",
       "1  Intel Core i3 Processor (11th Gen)8 GB DDR4 RA...          Intel Core i3    \n",
       "2  Intel Core i3 Processor (10th Gen)8 GB DDR4 RA...          Intel Core i3    \n",
       "3  AMD Ryzen 5 Hexa Core Processor8 GB DDR4 RAM64...  AMD Ryzen 5 Hexa Core    \n",
       "4  Intel Core i5 Processor (10th Gen)8 GB DDR4 RA...          Intel Core i5    \n",
       "\n",
       "    RAM RAM type                 OS     Storage   Brand Screensize  \n",
       "0  8 GB    DDR4   64 bit Windows 11  256 GB SSD  Lenovo         14  \n",
       "1  8 GB    DDR4   64 bit Windows 11  512 GB SSD  Lenovo       15.6  \n",
       "2  8 GB    DDR4   64 bit Windows 11  512 GB SSD    ASUS       15.6  \n",
       "3  8 GB    DDR4   64 bit Windows 10  512 GB SSD      HP       15.6  \n",
       "4  8 GB    DDR4          Windows 11  512 GB SSD    ASUS       15.6  "
      ]
     },
     "execution_count": 31,
     "metadata": {},
     "output_type": "execute_result"
    }
   ],
   "source": [
    "df.head()"
   ]
  },
  {
   "cell_type": "code",
   "execution_count": 32,
   "id": "311749e9",
   "metadata": {},
   "outputs": [
    {
     "name": "stdout",
     "output_type": "stream",
     "text": [
      "<class 'pandas.core.frame.DataFrame'>\n",
      "RangeIndex: 720 entries, 0 to 719\n",
      "Data columns (total 11 columns):\n",
      " #   Column      Non-Null Count  Dtype  \n",
      "---  ------      --------------  -----  \n",
      " 0   Product     720 non-null    object \n",
      " 1   Rating      581 non-null    float64\n",
      " 2   MRP         720 non-null    float64\n",
      " 3   Feature     720 non-null    object \n",
      " 4   Processor   720 non-null    object \n",
      " 5   RAM         720 non-null    object \n",
      " 6   RAM type    720 non-null    object \n",
      " 7   OS          720 non-null    object \n",
      " 8   Storage     720 non-null    object \n",
      " 9   Brand       720 non-null    object \n",
      " 10  Screensize  720 non-null    object \n",
      "dtypes: float64(2), object(9)\n",
      "memory usage: 62.0+ KB\n"
     ]
    }
   ],
   "source": [
    "df.info()"
   ]
  },
  {
   "cell_type": "markdown",
   "id": "d4e529cc",
   "metadata": {},
   "source": [
    "# data viz"
   ]
  },
  {
   "cell_type": "code",
   "execution_count": 33,
   "id": "e3b82673",
   "metadata": {},
   "outputs": [],
   "source": [
    "import matplotlib.pyplot as plt\n",
    "import seaborn as sns"
   ]
  },
  {
   "cell_type": "code",
   "execution_count": 34,
   "id": "2facc7c5",
   "metadata": {},
   "outputs": [],
   "source": [
    "cat_df = df.select_dtypes(include=['object'])\n",
    "num_df = df.select_dtypes(include=['float64'])"
   ]
  },
  {
   "cell_type": "code",
   "execution_count": 35,
   "id": "0d78fa48",
   "metadata": {},
   "outputs": [],
   "source": [
    "cat_df = cat_df.drop(columns=['Product','Feature'])"
   ]
  },
  {
   "cell_type": "code",
   "execution_count": 36,
   "id": "143ce2ab",
   "metadata": {},
   "outputs": [],
   "source": [
    "num_df = num_df.drop(columns=['Rating'])"
   ]
  },
  {
   "cell_type": "markdown",
   "id": "3bb80aec",
   "metadata": {},
   "source": [
    "# univariate on categorical"
   ]
  },
  {
   "cell_type": "code",
   "execution_count": 37,
   "id": "0ca8816b",
   "metadata": {},
   "outputs": [
    {
     "data": {
      "text/html": [
       "<div>\n",
       "<style scoped>\n",
       "    .dataframe tbody tr th:only-of-type {\n",
       "        vertical-align: middle;\n",
       "    }\n",
       "\n",
       "    .dataframe tbody tr th {\n",
       "        vertical-align: top;\n",
       "    }\n",
       "\n",
       "    .dataframe thead th {\n",
       "        text-align: right;\n",
       "    }\n",
       "</style>\n",
       "<table border=\"1\" class=\"dataframe\">\n",
       "  <thead>\n",
       "    <tr style=\"text-align: right;\">\n",
       "      <th></th>\n",
       "      <th>Processor</th>\n",
       "      <th>RAM</th>\n",
       "      <th>RAM type</th>\n",
       "      <th>OS</th>\n",
       "      <th>Storage</th>\n",
       "      <th>Brand</th>\n",
       "      <th>Screensize</th>\n",
       "    </tr>\n",
       "  </thead>\n",
       "  <tbody>\n",
       "    <tr>\n",
       "      <th>0</th>\n",
       "      <td>Intel Core i3</td>\n",
       "      <td>8 GB</td>\n",
       "      <td>DDR4</td>\n",
       "      <td>64 bit Windows 11</td>\n",
       "      <td>256 GB SSD</td>\n",
       "      <td>Lenovo</td>\n",
       "      <td>14</td>\n",
       "    </tr>\n",
       "    <tr>\n",
       "      <th>1</th>\n",
       "      <td>Intel Core i3</td>\n",
       "      <td>8 GB</td>\n",
       "      <td>DDR4</td>\n",
       "      <td>64 bit Windows 11</td>\n",
       "      <td>512 GB SSD</td>\n",
       "      <td>Lenovo</td>\n",
       "      <td>15.6</td>\n",
       "    </tr>\n",
       "    <tr>\n",
       "      <th>2</th>\n",
       "      <td>Intel Core i3</td>\n",
       "      <td>8 GB</td>\n",
       "      <td>DDR4</td>\n",
       "      <td>64 bit Windows 11</td>\n",
       "      <td>512 GB SSD</td>\n",
       "      <td>ASUS</td>\n",
       "      <td>15.6</td>\n",
       "    </tr>\n",
       "    <tr>\n",
       "      <th>3</th>\n",
       "      <td>AMD Ryzen 5 Hexa Core</td>\n",
       "      <td>8 GB</td>\n",
       "      <td>DDR4</td>\n",
       "      <td>64 bit Windows 10</td>\n",
       "      <td>512 GB SSD</td>\n",
       "      <td>HP</td>\n",
       "      <td>15.6</td>\n",
       "    </tr>\n",
       "    <tr>\n",
       "      <th>4</th>\n",
       "      <td>Intel Core i5</td>\n",
       "      <td>8 GB</td>\n",
       "      <td>DDR4</td>\n",
       "      <td>Windows 11</td>\n",
       "      <td>512 GB SSD</td>\n",
       "      <td>ASUS</td>\n",
       "      <td>15.6</td>\n",
       "    </tr>\n",
       "  </tbody>\n",
       "</table>\n",
       "</div>"
      ],
      "text/plain": [
       "                Processor   RAM RAM type                 OS     Storage  \\\n",
       "0          Intel Core i3   8 GB    DDR4   64 bit Windows 11  256 GB SSD   \n",
       "1          Intel Core i3   8 GB    DDR4   64 bit Windows 11  512 GB SSD   \n",
       "2          Intel Core i3   8 GB    DDR4   64 bit Windows 11  512 GB SSD   \n",
       "3  AMD Ryzen 5 Hexa Core   8 GB    DDR4   64 bit Windows 10  512 GB SSD   \n",
       "4          Intel Core i5   8 GB    DDR4          Windows 11  512 GB SSD   \n",
       "\n",
       "    Brand Screensize  \n",
       "0  Lenovo         14  \n",
       "1  Lenovo       15.6  \n",
       "2    ASUS       15.6  \n",
       "3      HP       15.6  \n",
       "4    ASUS       15.6  "
      ]
     },
     "execution_count": 37,
     "metadata": {},
     "output_type": "execute_result"
    }
   ],
   "source": [
    "cat_df.head()"
   ]
  },
  {
   "cell_type": "code",
   "execution_count": 38,
   "id": "5d099329",
   "metadata": {},
   "outputs": [
    {
     "data": {
      "text/html": [
       "<div>\n",
       "<style scoped>\n",
       "    .dataframe tbody tr th:only-of-type {\n",
       "        vertical-align: middle;\n",
       "    }\n",
       "\n",
       "    .dataframe tbody tr th {\n",
       "        vertical-align: top;\n",
       "    }\n",
       "\n",
       "    .dataframe thead th {\n",
       "        text-align: right;\n",
       "    }\n",
       "</style>\n",
       "<table border=\"1\" class=\"dataframe\">\n",
       "  <thead>\n",
       "    <tr style=\"text-align: right;\">\n",
       "      <th></th>\n",
       "      <th>MRP</th>\n",
       "    </tr>\n",
       "  </thead>\n",
       "  <tbody>\n",
       "    <tr>\n",
       "      <th>0</th>\n",
       "      <td>36990.0</td>\n",
       "    </tr>\n",
       "    <tr>\n",
       "      <th>1</th>\n",
       "      <td>39990.0</td>\n",
       "    </tr>\n",
       "    <tr>\n",
       "      <th>2</th>\n",
       "      <td>32990.0</td>\n",
       "    </tr>\n",
       "    <tr>\n",
       "      <th>3</th>\n",
       "      <td>49990.0</td>\n",
       "    </tr>\n",
       "    <tr>\n",
       "      <th>4</th>\n",
       "      <td>49990.0</td>\n",
       "    </tr>\n",
       "  </tbody>\n",
       "</table>\n",
       "</div>"
      ],
      "text/plain": [
       "       MRP\n",
       "0  36990.0\n",
       "1  39990.0\n",
       "2  32990.0\n",
       "3  49990.0\n",
       "4  49990.0"
      ]
     },
     "execution_count": 38,
     "metadata": {},
     "output_type": "execute_result"
    }
   ],
   "source": [
    "num_df.head()"
   ]
  },
  {
   "cell_type": "code",
   "execution_count": 39,
   "id": "9aad7b1c",
   "metadata": {},
   "outputs": [
    {
     "data": {
      "text/plain": [
       "<AxesSubplot:>"
      ]
     },
     "execution_count": 39,
     "metadata": {},
     "output_type": "execute_result"
    },
    {
     "data": {
      "image/png": "[encoded data removed]",
      "text/plain": [
       "<Figure size 432x288 with 1 Axes>"
      ]
     },
     "metadata": {
      "needs_background": "light"
     },
     "output_type": "display_data"
    }
   ],
   "source": [
    "cat_df.nunique().plot.bar()"
   ]
  },
  {
   "cell_type": "code",
   "execution_count": 40,
   "id": "e77bd0d3",
   "metadata": {},
   "outputs": [
    {
     "data": {
      "text/plain": [
       "Processor     20\n",
       "RAM            5\n",
       "RAM type       9\n",
       "OS            11\n",
       "Storage       11\n",
       "Brand         16\n",
       "Screensize    18\n",
       "dtype: int64"
      ]
     },
     "execution_count": 40,
     "metadata": {},
     "output_type": "execute_result"
    }
   ],
   "source": [
    "cat_df.nunique()"
   ]
  },
  {
   "cell_type": "code",
   "execution_count": 41,
   "id": "57570157",
   "metadata": {},
   "outputs": [
    {
     "data": {
      "text/plain": [
       "Intel Core i5               150\n",
       "Intel Core i3               129\n",
       "AMD Ryzen 9 Octa Core        87\n",
       "AMD Ryzen 7 Octa Core        79\n",
       "                             51\n",
       "Intel Core i7                49\n",
       "AMD Ryzen 5 Hexa Core        48\n",
       "AMD Ryzen 3 Dual Core        42\n",
       "AMD Ryzen 5 Quad Core        37\n",
       "Intel Celeron Dual Core      20\n",
       "Intel Core i9                10\n",
       "AMD Ryzen 3 Quad Core         4\n",
       "Intel Pentium Quad Core       3\n",
       "Intel Celeron Quad Core       3\n",
       "Intel Pentium Silver          2\n",
       "AMD Athlon Dual Core          2\n",
       "AMD Ryzen 5 Dual Core         1\n",
       "AMD Ryzen 7 Quad Core         1\n",
       "AMD Dual Core                 1\n",
       "AMD Ryzen 3 Hexa Core         1\n",
       "Name: Processor, dtype: int64"
      ]
     },
     "execution_count": 41,
     "metadata": {},
     "output_type": "execute_result"
    }
   ],
   "source": [
    "cat_df.Processor.value_counts()"
   ]
  },
  {
   "cell_type": "code",
   "execution_count": 42,
   "id": "45e0dd7c",
   "metadata": {},
   "outputs": [],
   "source": [
    "cat_df['Processor'] = cat_df['Processor'].replace(\"\",\"unknown\")"
   ]
  },
  {
   "cell_type": "code",
   "execution_count": 43,
   "id": "642b46e5",
   "metadata": {},
   "outputs": [
    {
     "data": {
      "text/plain": [
       "<AxesSubplot:>"
      ]
     },
     "execution_count": 43,
     "metadata": {},
     "output_type": "execute_result"
    },
    {
     "data": {
      "image/png": "[encoded data removed]",
      "text/plain": [
       "<Figure size 432x288 with 1 Axes>"
      ]
     },
     "metadata": {
      "needs_background": "light"
     },
     "output_type": "display_data"
    }
   ],
   "source": [
    "cat_df.Processor.value_counts().plot(kind='bar')"
   ]
  },
  {
   "cell_type": "code",
   "execution_count": 44,
   "id": "65d71398",
   "metadata": {},
   "outputs": [],
   "source": [
    "cat_df_processor_top10 = cat_df['Processor'].value_counts().nlargest(10).index"
   ]
  },
  {
   "cell_type": "code",
   "execution_count": 45,
   "id": "0806830d",
   "metadata": {},
   "outputs": [],
   "source": [
    "cat_df['Processor'] = cat_df['Processor'].where(cat_df['Processor'].isin(cat_df_processor_top10),'other')\n",
    "cat_df['Processor'] = cat_df['Processor'].replace('','unknown')"
   ]
  },
  {
   "cell_type": "code",
   "execution_count": 46,
   "id": "a91fdd89",
   "metadata": {},
   "outputs": [
    {
     "data": {
      "image/png": "[encoded data removed]",
      "text/plain": [
       "<Figure size 576x432 with 1 Axes>"
      ]
     },
     "metadata": {
      "needs_background": "light"
     },
     "output_type": "display_data"
    }
   ],
   "source": [
    "plt.figure(figsize=(8,6))\n",
    "sns.countplot(y=cat_df['Processor'],orient='h')\n",
    "plt.show()"
   ]
  },
  {
   "cell_type": "code",
   "execution_count": 47,
   "id": "673f5de0",
   "metadata": {},
   "outputs": [
    {
     "data": {
      "text/plain": [
       "8 GB                402\n",
       "16 GB               263\n",
       "4 GB                 37\n",
       "32 GB                17\n",
       "128 GB512 GB8 GB      1\n",
       "Name: RAM, dtype: int64"
      ]
     },
     "execution_count": 47,
     "metadata": {},
     "output_type": "execute_result"
    }
   ],
   "source": [
    "cat_df.RAM.value_counts()"
   ]
  },
  {
   "cell_type": "code",
   "execution_count": 48,
   "id": "aed3980e",
   "metadata": {},
   "outputs": [],
   "source": [
    "cat_df['RAM'] = cat_df['RAM'].replace(\"4 GB\",\"others\")\n",
    "cat_df['RAM'] = cat_df['RAM'].replace(\"32 GB\",\"others\")\n",
    "cat_df['RAM'] = cat_df['RAM'].replace(\"128 GB512 GB8 GB\",\"others\")"
   ]
  },
  {
   "cell_type": "code",
   "execution_count": 49,
   "id": "f5101878",
   "metadata": {},
   "outputs": [
    {
     "data": {
      "text/plain": [
       "8 GB      402\n",
       "16 GB     263\n",
       "others     55\n",
       "Name: RAM, dtype: int64"
      ]
     },
     "execution_count": 49,
     "metadata": {},
     "output_type": "execute_result"
    }
   ],
   "source": [
    "cat_df.RAM.value_counts()"
   ]
  },
  {
   "cell_type": "code",
   "execution_count": 50,
   "id": "138fecaf",
   "metadata": {},
   "outputs": [
    {
     "data": {
      "image/png": "[encoded data removed]",
      "text/plain": [
       "<Figure size 576x432 with 1 Axes>"
      ]
     },
     "metadata": {
      "needs_background": "light"
     },
     "output_type": "display_data"
    }
   ],
   "source": [
    "plt.figure(figsize=(8,6))\n",
    "sns.countplot(x=cat_df['RAM'])\n",
    "plt.show()"
   ]
  },
  {
   "cell_type": "code",
   "execution_count": 51,
   "id": "61ce297e",
   "metadata": {},
   "outputs": [
    {
     "data": {
      "text/plain": [
       "64 bit Windows 11                                                                         403\n",
       "Windows 11                                                                                156\n",
       "64 bit Windows 10                                                                         115\n",
       "                                                                                           27\n",
       "Windows 10                                                                                 12\n",
       "64 bit DOS                                                                                  2\n",
       "Windows 11 when availableAMD Ryzen 5 Hexa Core Processor8 GB DDR4 RAM64 bit Windows 11      1\n",
       "32 bit Windows 11                                                                           1\n",
       "Windows 1064 bit Windows 10                                                                 1\n",
       "Windows 11 when availableAMD Ryzen 5 Hexa Core Processor8 GB DDR4 RAM64 bit Windows 10      1\n",
       "64 bit Chrome                                                                               1\n",
       "Name: OS, dtype: int64"
      ]
     },
     "execution_count": 51,
     "metadata": {},
     "output_type": "execute_result"
    }
   ],
   "source": [
    "cat_df.OS.value_counts()"
   ]
  },
  {
   "cell_type": "code",
   "execution_count": 52,
   "id": "01efdee9",
   "metadata": {},
   "outputs": [],
   "source": [
    "cat_df['OS'] = cat_df['OS'].replace('Windows 11 when availableAMD Ryzen 5 Hexa Core Processor8 GB DDR4 RAM64 bit Windows 11','64 bit Windows 11')\n",
    "cat_df['OS'] = cat_df['OS'].replace('Windows 11 when availableAMD Ryzen 5 Hexa Core Processor8 GB DDR4 RAM64 bit Windows 10','64 bit Windows 10')\n",
    "cat_df['OS'] = cat_df['OS'].replace('','unknown')\n",
    "cat_df['OS'] = cat_df['OS'].replace('64 bit DOS','unknown')\n",
    "cat_df['OS'] = cat_df['OS'].replace('32 bit Windows 11','unknown')\n",
    "cat_df['OS'] = cat_df['OS'].replace('Windows 1064 bit Windows 10','Windows 10')\n",
    "cat_df['OS'] = cat_df['OS'].replace('64 bit Chrome','unknown')"
   ]
  },
  {
   "cell_type": "code",
   "execution_count": 53,
   "id": "2808df29",
   "metadata": {},
   "outputs": [
    {
     "data": {
      "text/plain": [
       "64 bit Windows 11    404\n",
       "Windows 11           156\n",
       "64 bit Windows 10    116\n",
       "unknown               31\n",
       "Windows 10            13\n",
       "Name: OS, dtype: int64"
      ]
     },
     "execution_count": 53,
     "metadata": {},
     "output_type": "execute_result"
    }
   ],
   "source": [
    "cat_df.OS.value_counts()"
   ]
  },
  {
   "cell_type": "code",
   "execution_count": 54,
   "id": "8d1ba7f5",
   "metadata": {},
   "outputs": [],
   "source": [
    "cat_df['OS'] = cat_df['OS'].replace('unknown','others')\n",
    "cat_df['OS'] = cat_df['OS'].replace('Windows 10','others')"
   ]
  },
  {
   "cell_type": "code",
   "execution_count": 55,
   "id": "37298f48",
   "metadata": {},
   "outputs": [
    {
     "data": {
      "text/plain": [
       "64 bit Windows 11    404\n",
       "Windows 11           156\n",
       "64 bit Windows 10    116\n",
       "others                44\n",
       "Name: OS, dtype: int64"
      ]
     },
     "execution_count": 55,
     "metadata": {},
     "output_type": "execute_result"
    }
   ],
   "source": [
    "cat_df.OS.value_counts()"
   ]
  },
  {
   "cell_type": "code",
   "execution_count": 56,
   "id": "7c744395",
   "metadata": {},
   "outputs": [
    {
     "data": {
      "image/png": "[encoded data removed]",
      "text/plain": [
       "<Figure size 576x432 with 1 Axes>"
      ]
     },
     "metadata": {
      "needs_background": "light"
     },
     "output_type": "display_data"
    }
   ],
   "source": [
    "plt.figure(figsize=(8,6))\n",
    "sns.countplot(y=cat_df['OS'])\n",
    "plt.show()"
   ]
  },
  {
   "cell_type": "code",
   "execution_count": 57,
   "id": "a0ea12ef",
   "metadata": {},
   "outputs": [
    {
     "data": {
      "text/plain": [
       "512 GB SSD                      375\n",
       "1 TB SSD                        176\n",
       "256 GB SSD                       98\n",
       "1 TB HDD256 GB SSD               26\n",
       "1 TB HDD                         17\n",
       "                                 10\n",
       "2 TB SSD                          7\n",
       "128 GB SSD                        6\n",
       "1 TB HDD512 GB SSD                2\n",
       "128 GB SSD1 TB HDD128 GB SSD      2\n",
       "256 GB HDD256 GB SSD              1\n",
       "Name: Storage, dtype: int64"
      ]
     },
     "execution_count": 57,
     "metadata": {},
     "output_type": "execute_result"
    }
   ],
   "source": [
    "cat_df.Storage.value_counts()"
   ]
  },
  {
   "cell_type": "code",
   "execution_count": 58,
   "id": "da3071e8",
   "metadata": {},
   "outputs": [],
   "source": [
    "cat_df['Storage'] = cat_df['Storage'].replace('','others')\n",
    "cat_df['Storage'] = cat_df['Storage'].replace('1 TB HDD','others')\n",
    "cat_df['Storage'] = cat_df['Storage'].replace('2 TB SSD','others')\n",
    "cat_df['Storage'] = cat_df['Storage'].replace('128 GB SSD','others')\n",
    "cat_df['Storage'] = cat_df['Storage'].replace('1 TB HDD512 GB SSD','others')\n",
    "cat_df['Storage'] = cat_df['Storage'].replace('128 GB SSD1 TB HDD128 GB SSD','others')\n",
    "cat_df['Storage'] = cat_df['Storage'].replace('256 GB HDD256 GB SSD','others')"
   ]
  },
  {
   "cell_type": "code",
   "execution_count": 59,
   "id": "8bab95bd",
   "metadata": {},
   "outputs": [
    {
     "data": {
      "text/plain": [
       "512 GB SSD            375\n",
       "1 TB SSD              176\n",
       "256 GB SSD             98\n",
       "others                 45\n",
       "1 TB HDD256 GB SSD     26\n",
       "Name: Storage, dtype: int64"
      ]
     },
     "execution_count": 59,
     "metadata": {},
     "output_type": "execute_result"
    }
   ],
   "source": [
    "cat_df.Storage.value_counts()"
   ]
  },
  {
   "cell_type": "code",
   "execution_count": 60,
   "id": "9e40ac50",
   "metadata": {},
   "outputs": [
    {
     "data": {
      "image/png": "[encoded data removed]",
      "text/plain": [
       "<Figure size 576x432 with 1 Axes>"
      ]
     },
     "metadata": {
      "needs_background": "light"
     },
     "output_type": "display_data"
    }
   ],
   "source": [
    "plt.figure(figsize=(8,6))\n",
    "sns.countplot(y=cat_df['Storage'])\n",
    "plt.show()"
   ]
  },
  {
   "cell_type": "code",
   "execution_count": 61,
   "id": "bf9a1acc",
   "metadata": {},
   "outputs": [
    {
     "data": {
      "text/plain": [
       "ASUS         251\n",
       "Lenovo       196\n",
       "HP            61\n",
       "DELL          61\n",
       "acer          35\n",
       "RedmiBook     31\n",
       "MSI           30\n",
       "Infinix       20\n",
       "APPLE         19\n",
       "realme         6\n",
       "ALIENWARE      3\n",
       "SAMSUNG        2\n",
       "Ultimus        2\n",
       "Vaio           1\n",
       "GIGABYTE       1\n",
       "Nokia          1\n",
       "Name: Brand, dtype: int64"
      ]
     },
     "execution_count": 61,
     "metadata": {},
     "output_type": "execute_result"
    }
   ],
   "source": [
    "cat_df.Brand.value_counts()"
   ]
  },
  {
   "cell_type": "code",
   "execution_count": 62,
   "id": "a390d3a1",
   "metadata": {},
   "outputs": [
    {
     "data": {
      "image/png": "[encoded data removed]",
      "text/plain": [
       "<Figure size 576x432 with 1 Axes>"
      ]
     },
     "metadata": {
      "needs_background": "light"
     },
     "output_type": "display_data"
    }
   ],
   "source": [
    "plt.figure(figsize=(8,6))\n",
    "sns.countplot(y=cat_df['Brand'])\n",
    "plt.show()"
   ]
  },
  {
   "cell_type": "code",
   "execution_count": 63,
   "id": "981f1e29",
   "metadata": {},
   "outputs": [],
   "source": [
    "cat_df['Brand'] = cat_df['Brand'].replace('realme','others')\n",
    "cat_df['Brand'] = cat_df['Brand'].replace('ALIENWARE','others')\n",
    "cat_df['Brand'] = cat_df['Brand'].replace('SAMSUNG','others')\n",
    "cat_df['Brand'] = cat_df['Brand'].replace('Ultimus','others')\n",
    "cat_df['Brand'] = cat_df['Brand'].replace('Vaio','others')\n",
    "cat_df['Brand'] = cat_df['Brand'].replace('GIGABYTE','others')\n",
    "cat_df['Brand'] = cat_df['Brand'].replace('Nokia','others')"
   ]
  },
  {
   "cell_type": "code",
   "execution_count": 64,
   "id": "ac1cd6f4",
   "metadata": {
    "scrolled": false
   },
   "outputs": [
    {
     "data": {
      "image/png": "[encoded data removed]",
      "text/plain": [
       "<Figure size 576x432 with 1 Axes>"
      ]
     },
     "metadata": {
      "needs_background": "light"
     },
     "output_type": "display_data"
    }
   ],
   "source": [
    "plt.figure(figsize=(8,6))\n",
    "sns.countplot(y=cat_df['Brand'])\n",
    "plt.show()"
   ]
  },
  {
   "cell_type": "code",
   "execution_count": 65,
   "id": "9af2870f",
   "metadata": {},
   "outputs": [
    {
     "data": {
      "text/plain": [
       "ASUS         251\n",
       "Lenovo       196\n",
       "HP            61\n",
       "DELL          61\n",
       "acer          35\n",
       "RedmiBook     31\n",
       "MSI           30\n",
       "Infinix       20\n",
       "APPLE         19\n",
       "others        16\n",
       "Name: Brand, dtype: int64"
      ]
     },
     "execution_count": 65,
     "metadata": {},
     "output_type": "execute_result"
    }
   ],
   "source": [
    "cat_df.Brand.value_counts()"
   ]
  },
  {
   "cell_type": "code",
   "execution_count": 66,
   "id": "6416746b",
   "metadata": {},
   "outputs": [
    {
     "data": {
      "text/plain": [
       "15.6            353\n",
       "                210\n",
       "14              100\n",
       "13.3              9\n",
       "15.615.6          7\n",
       "16                6\n",
       "16.1              5\n",
       "17.3              5\n",
       "16.2              5\n",
       "14.1              4\n",
       "11.6              4\n",
       "15                4\n",
       "14.2              2\n",
       "1414              2\n",
       "13                1\n",
       "13.5              1\n",
       "16.6              1\n",
       "206015.615.6      1\n",
       "Name: Screensize, dtype: int64"
      ]
     },
     "execution_count": 66,
     "metadata": {},
     "output_type": "execute_result"
    }
   ],
   "source": [
    "cat_df.Screensize.value_counts()"
   ]
  },
  {
   "cell_type": "code",
   "execution_count": 67,
   "id": "51584b43",
   "metadata": {},
   "outputs": [],
   "source": [
    "cat_df['Screensize'] = cat_df['Screensize'].replace('15.615.6','15.6')\n",
    "cat_df['Screensize'] = cat_df['Screensize'].replace('14.1','14')\n",
    "cat_df['Screensize'] = cat_df['Screensize'].replace('15','15.6')\n",
    "cat_df['Screensize'] = cat_df['Screensize'].replace('14.2','14')\n",
    "cat_df['Screensize'] = cat_df['Screensize'].replace('1414','14')\n",
    "cat_df['Screensize'] = cat_df['Screensize'].replace('13.3','others')\n",
    "cat_df['Screensize'] = cat_df['Screensize'].replace('16','others')\n",
    "cat_df['Screensize'] = cat_df['Screensize'].replace('16.1','others')\n",
    "cat_df['Screensize'] = cat_df['Screensize'].replace('17.3','others')\n",
    "cat_df['Screensize'] = cat_df['Screensize'].replace('16.2','others')\n",
    "cat_df['Screensize'] = cat_df['Screensize'].replace('11.6','others')\n",
    "cat_df['Screensize'] = cat_df['Screensize'].replace('13','others')\n",
    "cat_df['Screensize'] = cat_df['Screensize'].replace('13.5','others')\n",
    "cat_df['Screensize'] = cat_df['Screensize'].replace('16.6','others')\n",
    "cat_df['Screensize'] = cat_df['Screensize'].replace('206015.615.6','15.6')\n",
    "cat_df['Screensize'] = cat_df['Screensize'].replace('','unknown')"
   ]
  },
  {
   "cell_type": "code",
   "execution_count": 68,
   "id": "04b2d819",
   "metadata": {},
   "outputs": [
    {
     "data": {
      "image/png": "[encoded data removed]",
      "text/plain": [
       "<Figure size 576x432 with 1 Axes>"
      ]
     },
     "metadata": {
      "needs_background": "light"
     },
     "output_type": "display_data"
    }
   ],
   "source": [
    "plt.figure(figsize=(8,6))\n",
    "sns.countplot(y=cat_df['Screensize'])\n",
    "plt.show()"
   ]
  },
  {
   "cell_type": "code",
   "execution_count": 69,
   "id": "936aa038",
   "metadata": {},
   "outputs": [
    {
     "data": {
      "text/plain": [
       "15.6       365\n",
       "unknown    210\n",
       "14         108\n",
       "others      37\n",
       "Name: Screensize, dtype: int64"
      ]
     },
     "execution_count": 69,
     "metadata": {},
     "output_type": "execute_result"
    }
   ],
   "source": [
    "cat_df.Screensize.value_counts()"
   ]
  },
  {
   "cell_type": "code",
   "execution_count": 70,
   "id": "5bac7bfa",
   "metadata": {},
   "outputs": [
    {
     "data": {
      "text/plain": [
       " DDR4                                                                                     559\n",
       " DDR5                                                                                      92\n",
       " LPDDR4X                                                                                   37\n",
       " Unified Memory                                                                            12\n",
       " LPDDR5                                                                                     9\n",
       " LPDDR4                                                                                     8\n",
       "  DDR4                                                                                      1\n",
       " SSD for Reduced Boot Up Time and in Game LoadingUpgradable SSD Upto 512 GB and  DDR4       1\n",
       " LPDDR3                                                                                     1\n",
       "Name: RAM type, dtype: int64"
      ]
     },
     "execution_count": 70,
     "metadata": {},
     "output_type": "execute_result"
    }
   ],
   "source": [
    "cat_df['RAM type'].value_counts()"
   ]
  },
  {
   "cell_type": "code",
   "execution_count": 71,
   "id": "7d93b6da",
   "metadata": {},
   "outputs": [],
   "source": [
    "cat_df['RAM type'] = cat_df['RAM type'].str.replace(' ','')"
   ]
  },
  {
   "cell_type": "code",
   "execution_count": 72,
   "id": "fc6d06b5",
   "metadata": {},
   "outputs": [],
   "source": [
    "cat_df['RAM type'] = cat_df['RAM type'].str.replace('LPDDR4X','others')\n",
    "cat_df['RAM type'] = cat_df['RAM type'].str.replace('UnifiedMemory','others')\n",
    "cat_df['RAM type'] = cat_df['RAM type'].str.replace('LPDDR5','others')\n",
    "cat_df['RAM type'] = cat_df['RAM type'].str.replace('LPDDR4','others')\n",
    "cat_df['RAM type'] = cat_df['RAM type'].str.replace('SSDforReducedBootUpTimeandinGameLoadingUpgradableSSDUpto512GBandDDR4','others')\n",
    "cat_df['RAM type'] = cat_df['RAM type'].str.replace('LPDDR3','others')"
   ]
  },
  {
   "cell_type": "code",
   "execution_count": 73,
   "id": "fe560d22",
   "metadata": {},
   "outputs": [
    {
     "data": {
      "image/png": "[encoded data removed]",
      "text/plain": [
       "<Figure size 576x432 with 1 Axes>"
      ]
     },
     "metadata": {
      "needs_background": "light"
     },
     "output_type": "display_data"
    }
   ],
   "source": [
    "plt.figure(figsize=(8,6))\n",
    "sns.countplot(y=cat_df['RAM type'])\n",
    "plt.show()"
   ]
  },
  {
   "cell_type": "code",
   "execution_count": 74,
   "id": "ffeeb379",
   "metadata": {},
   "outputs": [
    {
     "data": {
      "text/plain": [
       "DDR4      560\n",
       "DDR5       92\n",
       "others     68\n",
       "Name: RAM type, dtype: int64"
      ]
     },
     "execution_count": 74,
     "metadata": {},
     "output_type": "execute_result"
    }
   ],
   "source": [
    "cat_df['RAM type'].value_counts()"
   ]
  },
  {
   "cell_type": "code",
   "execution_count": 75,
   "id": "19708bb0",
   "metadata": {},
   "outputs": [
    {
     "data": {
      "text/plain": [
       "<AxesSubplot:>"
      ]
     },
     "execution_count": 75,
     "metadata": {},
     "output_type": "execute_result"
    },
    {
     "data": {
      "image/png": "[encoded data removed]",
      "text/plain": [
       "<Figure size 432x288 with 1 Axes>"
      ]
     },
     "metadata": {
      "needs_background": "light"
     },
     "output_type": "display_data"
    }
   ],
   "source": [
    "cat_df.nunique().plot.bar()"
   ]
  },
  {
   "cell_type": "markdown",
   "id": "fc41cde9",
   "metadata": {},
   "source": [
    "# univariate on numerical column"
   ]
  },
  {
   "cell_type": "code",
   "execution_count": 76,
   "id": "5b0fb93a",
   "metadata": {},
   "outputs": [
    {
     "data": {
      "text/html": [
       "<div>\n",
       "<style scoped>\n",
       "    .dataframe tbody tr th:only-of-type {\n",
       "        vertical-align: middle;\n",
       "    }\n",
       "\n",
       "    .dataframe tbody tr th {\n",
       "        vertical-align: top;\n",
       "    }\n",
       "\n",
       "    .dataframe thead th {\n",
       "        text-align: right;\n",
       "    }\n",
       "</style>\n",
       "<table border=\"1\" class=\"dataframe\">\n",
       "  <thead>\n",
       "    <tr style=\"text-align: right;\">\n",
       "      <th></th>\n",
       "      <th>MRP</th>\n",
       "    </tr>\n",
       "  </thead>\n",
       "  <tbody>\n",
       "    <tr>\n",
       "      <th>0</th>\n",
       "      <td>36990.0</td>\n",
       "    </tr>\n",
       "    <tr>\n",
       "      <th>1</th>\n",
       "      <td>39990.0</td>\n",
       "    </tr>\n",
       "    <tr>\n",
       "      <th>2</th>\n",
       "      <td>32990.0</td>\n",
       "    </tr>\n",
       "    <tr>\n",
       "      <th>3</th>\n",
       "      <td>49990.0</td>\n",
       "    </tr>\n",
       "    <tr>\n",
       "      <th>4</th>\n",
       "      <td>49990.0</td>\n",
       "    </tr>\n",
       "  </tbody>\n",
       "</table>\n",
       "</div>"
      ],
      "text/plain": [
       "       MRP\n",
       "0  36990.0\n",
       "1  39990.0\n",
       "2  32990.0\n",
       "3  49990.0\n",
       "4  49990.0"
      ]
     },
     "execution_count": 76,
     "metadata": {},
     "output_type": "execute_result"
    }
   ],
   "source": [
    "num_df.head()"
   ]
  },
  {
   "cell_type": "code",
   "execution_count": 77,
   "id": "34c0b237",
   "metadata": {},
   "outputs": [
    {
     "data": {
      "text/plain": [
       "14990.0"
      ]
     },
     "execution_count": 77,
     "metadata": {},
     "output_type": "execute_result"
    }
   ],
   "source": [
    "num_df.MRP.min()"
   ]
  },
  {
   "cell_type": "code",
   "execution_count": 78,
   "id": "4be13688",
   "metadata": {},
   "outputs": [
    {
     "data": {
      "text/plain": [
       "434830.0"
      ]
     },
     "execution_count": 78,
     "metadata": {},
     "output_type": "execute_result"
    }
   ],
   "source": [
    "num_df.MRP.max()"
   ]
  },
  {
   "cell_type": "code",
   "execution_count": 79,
   "id": "db445f8f",
   "metadata": {},
   "outputs": [
    {
     "data": {
      "text/plain": [
       "59990.0"
      ]
     },
     "execution_count": 79,
     "metadata": {},
     "output_type": "execute_result"
    }
   ],
   "source": [
    "num_df.MRP.median()"
   ]
  },
  {
   "cell_type": "code",
   "execution_count": 80,
   "id": "ec633319",
   "metadata": {},
   "outputs": [
    {
     "data": {
      "text/plain": [
       "61552.95510244973"
      ]
     },
     "execution_count": 80,
     "metadata": {},
     "output_type": "execute_result"
    }
   ],
   "source": [
    "num_df.MRP.std()"
   ]
  },
  {
   "cell_type": "code",
   "execution_count": 81,
   "id": "7ab70004",
   "metadata": {},
   "outputs": [
    {
     "data": {
      "text/plain": [
       "<AxesSubplot:>"
      ]
     },
     "execution_count": 81,
     "metadata": {},
     "output_type": "execute_result"
    },
    {
     "data": {
      "image/png": "[encoded data removed]",
      "text/plain": [
       "<Figure size 432x288 with 1 Axes>"
      ]
     },
     "metadata": {
      "needs_background": "light"
     },
     "output_type": "display_data"
    }
   ],
   "source": [
    "num_df.MRP.plot(kind='box')"
   ]
  },
  {
   "cell_type": "code",
   "execution_count": 82,
   "id": "90100a40",
   "metadata": {},
   "outputs": [],
   "source": [
    "num_df['MRP'] = num_df['MRP'].apply(np.log)"
   ]
  },
  {
   "cell_type": "code",
   "execution_count": 83,
   "id": "14405023",
   "metadata": {},
   "outputs": [
    {
     "data": {
      "text/plain": [
       "<AxesSubplot:>"
      ]
     },
     "execution_count": 83,
     "metadata": {},
     "output_type": "execute_result"
    },
    {
     "data": {
      "image/png": "[encoded data removed]",
      "text/plain": [
       "<Figure size 432x288 with 1 Axes>"
      ]
     },
     "metadata": {
      "needs_background": "light"
     },
     "output_type": "display_data"
    }
   ],
   "source": [
    "num_df.MRP.plot(kind='box')"
   ]
  },
  {
   "cell_type": "code",
   "execution_count": 84,
   "id": "74302fce",
   "metadata": {},
   "outputs": [],
   "source": [
    "q1 = num_df['MRP'].quantile(0.25)\n",
    "q3 = num_df['MRP'].quantile(0.75)\n",
    "IQR = q3 - q1\n",
    "MRP_lower_bound = q1 - 1.5 * IQR\n",
    "MRP_upper_bound = q3 + 1.5 * IQR\n",
    "\n",
    "df_clean = num_df[(num_df['MRP']>= MRP_lower_bound) & (num_df['MRP']<= MRP_upper_bound)]"
   ]
  },
  {
   "cell_type": "code",
   "execution_count": 85,
   "id": "4766ae40",
   "metadata": {},
   "outputs": [
    {
     "data": {
      "text/plain": [
       "<AxesSubplot:>"
      ]
     },
     "execution_count": 85,
     "metadata": {},
     "output_type": "execute_result"
    },
    {
     "data": {
      "image/png": "[encoded data removed]",
      "text/plain": [
       "<Figure size 432x288 with 1 Axes>"
      ]
     },
     "metadata": {
      "needs_background": "light"
     },
     "output_type": "display_data"
    }
   ],
   "source": [
    "df_clean.plot(kind='box')"
   ]
  },
  {
   "cell_type": "markdown",
   "id": "f48b0713",
   "metadata": {},
   "source": [
    "# Bivariate analysis"
   ]
  },
  {
   "cell_type": "code",
   "execution_count": 86,
   "id": "8f2deabe",
   "metadata": {},
   "outputs": [],
   "source": [
    "df2 = num_df.join(cat_df) "
   ]
  },
  {
   "cell_type": "code",
   "execution_count": 87,
   "id": "b7eba437",
   "metadata": {},
   "outputs": [
    {
     "data": {
      "text/html": [
       "<div>\n",
       "<style scoped>\n",
       "    .dataframe tbody tr th:only-of-type {\n",
       "        vertical-align: middle;\n",
       "    }\n",
       "\n",
       "    .dataframe tbody tr th {\n",
       "        vertical-align: top;\n",
       "    }\n",
       "\n",
       "    .dataframe thead th {\n",
       "        text-align: right;\n",
       "    }\n",
       "</style>\n",
       "<table border=\"1\" class=\"dataframe\">\n",
       "  <thead>\n",
       "    <tr style=\"text-align: right;\">\n",
       "      <th></th>\n",
       "      <th>MRP</th>\n",
       "      <th>Processor</th>\n",
       "      <th>RAM</th>\n",
       "      <th>RAM type</th>\n",
       "      <th>OS</th>\n",
       "      <th>Storage</th>\n",
       "      <th>Brand</th>\n",
       "      <th>Screensize</th>\n",
       "    </tr>\n",
       "  </thead>\n",
       "  <tbody>\n",
       "    <tr>\n",
       "      <th>0</th>\n",
       "      <td>10.518403</td>\n",
       "      <td>Intel Core i3</td>\n",
       "      <td>8 GB</td>\n",
       "      <td>DDR4</td>\n",
       "      <td>64 bit Windows 11</td>\n",
       "      <td>256 GB SSD</td>\n",
       "      <td>Lenovo</td>\n",
       "      <td>14</td>\n",
       "    </tr>\n",
       "    <tr>\n",
       "      <th>1</th>\n",
       "      <td>10.596385</td>\n",
       "      <td>Intel Core i3</td>\n",
       "      <td>8 GB</td>\n",
       "      <td>DDR4</td>\n",
       "      <td>64 bit Windows 11</td>\n",
       "      <td>512 GB SSD</td>\n",
       "      <td>Lenovo</td>\n",
       "      <td>15.6</td>\n",
       "    </tr>\n",
       "    <tr>\n",
       "      <th>2</th>\n",
       "      <td>10.403960</td>\n",
       "      <td>Intel Core i3</td>\n",
       "      <td>8 GB</td>\n",
       "      <td>DDR4</td>\n",
       "      <td>64 bit Windows 11</td>\n",
       "      <td>512 GB SSD</td>\n",
       "      <td>ASUS</td>\n",
       "      <td>15.6</td>\n",
       "    </tr>\n",
       "    <tr>\n",
       "      <th>3</th>\n",
       "      <td>10.819578</td>\n",
       "      <td>AMD Ryzen 5 Hexa Core</td>\n",
       "      <td>8 GB</td>\n",
       "      <td>DDR4</td>\n",
       "      <td>64 bit Windows 10</td>\n",
       "      <td>512 GB SSD</td>\n",
       "      <td>HP</td>\n",
       "      <td>15.6</td>\n",
       "    </tr>\n",
       "    <tr>\n",
       "      <th>4</th>\n",
       "      <td>10.819578</td>\n",
       "      <td>Intel Core i5</td>\n",
       "      <td>8 GB</td>\n",
       "      <td>DDR4</td>\n",
       "      <td>Windows 11</td>\n",
       "      <td>512 GB SSD</td>\n",
       "      <td>ASUS</td>\n",
       "      <td>15.6</td>\n",
       "    </tr>\n",
       "  </tbody>\n",
       "</table>\n",
       "</div>"
      ],
      "text/plain": [
       "         MRP               Processor   RAM RAM type                 OS  \\\n",
       "0  10.518403          Intel Core i3   8 GB     DDR4  64 bit Windows 11   \n",
       "1  10.596385          Intel Core i3   8 GB     DDR4  64 bit Windows 11   \n",
       "2  10.403960          Intel Core i3   8 GB     DDR4  64 bit Windows 11   \n",
       "3  10.819578  AMD Ryzen 5 Hexa Core   8 GB     DDR4  64 bit Windows 10   \n",
       "4  10.819578          Intel Core i5   8 GB     DDR4         Windows 11   \n",
       "\n",
       "      Storage   Brand Screensize  \n",
       "0  256 GB SSD  Lenovo         14  \n",
       "1  512 GB SSD  Lenovo       15.6  \n",
       "2  512 GB SSD    ASUS       15.6  \n",
       "3  512 GB SSD      HP       15.6  \n",
       "4  512 GB SSD    ASUS       15.6  "
      ]
     },
     "execution_count": 87,
     "metadata": {},
     "output_type": "execute_result"
    }
   ],
   "source": [
    "df2.head()"
   ]
  },
  {
   "cell_type": "code",
   "execution_count": 88,
   "id": "ab6df587",
   "metadata": {},
   "outputs": [
    {
     "data": {
      "text/plain": [
       "(array([ 0,  1,  2,  3,  4,  5,  6,  7,  8,  9, 10]),\n",
       " [Text(0, 0, 'Intel Core i3 '),\n",
       "  Text(1, 0, 'AMD Ryzen 5 Hexa Core '),\n",
       "  Text(2, 0, 'Intel Core i5 '),\n",
       "  Text(3, 0, 'unknown'),\n",
       "  Text(4, 0, 'other'),\n",
       "  Text(5, 0, 'AMD Ryzen 5 Quad Core '),\n",
       "  Text(6, 0, 'AMD Ryzen 9 Octa Core '),\n",
       "  Text(7, 0, 'AMD Ryzen 7 Octa Core '),\n",
       "  Text(8, 0, 'Intel Celeron Dual Core '),\n",
       "  Text(9, 0, 'AMD Ryzen 3 Dual Core '),\n",
       "  Text(10, 0, 'Intel Core i7 ')])"
      ]
     },
     "execution_count": 88,
     "metadata": {},
     "output_type": "execute_result"
    },
    {
     "data": {
      "image/png": "[encoded data removed]",
      "text/plain": [
       "<Figure size 1080x576 with 1 Axes>"
      ]
     },
     "metadata": {
      "needs_background": "light"
     },
     "output_type": "display_data"
    }
   ],
   "source": [
    "plt.figure(figsize=(15,8))\n",
    "sns.boxplot(x='Processor',y='MRP',data=df2)\n",
    "plt.xticks(rotation=90)"
   ]
  },
  {
   "cell_type": "code",
   "execution_count": 89,
   "id": "67ff3329",
   "metadata": {},
   "outputs": [
    {
     "data": {
      "text/plain": [
       "(array([0, 1, 2]),\n",
       " [Text(0, 0, '8 GB'), Text(1, 0, '16 GB'), Text(2, 0, 'others')])"
      ]
     },
     "execution_count": 89,
     "metadata": {},
     "output_type": "execute_result"
    },
    {
     "data": {
      "image/png": "[encoded data removed]",
      "text/plain": [
       "<Figure size 1080x576 with 1 Axes>"
      ]
     },
     "metadata": {
      "needs_background": "light"
     },
     "output_type": "display_data"
    }
   ],
   "source": [
    "plt.figure(figsize=(15,8))\n",
    "sns.boxplot(x='RAM',y='MRP',data=df2)\n",
    "plt.xticks(rotation=90)"
   ]
  },
  {
   "cell_type": "code",
   "execution_count": 90,
   "id": "4bc34551",
   "metadata": {},
   "outputs": [
    {
     "data": {
      "text/plain": [
       "(array([0, 1, 2, 3]),\n",
       " [Text(0, 0, '64 bit Windows 11'),\n",
       "  Text(1, 0, '64 bit Windows 10'),\n",
       "  Text(2, 0, 'Windows 11'),\n",
       "  Text(3, 0, 'others')])"
      ]
     },
     "execution_count": 90,
     "metadata": {},
     "output_type": "execute_result"
    },
    {
     "data": {
      "image/png": "[encoded data removed]",
      "text/plain": [
       "<Figure size 1080x576 with 1 Axes>"
      ]
     },
     "metadata": {
      "needs_background": "light"
     },
     "output_type": "display_data"
    }
   ],
   "source": [
    "plt.figure(figsize=(15,8))\n",
    "sns.boxplot(x='OS',y='MRP',data=df2)\n",
    "plt.xticks(rotation=90)"
   ]
  },
  {
   "cell_type": "code",
   "execution_count": 91,
   "id": "db19ac9f",
   "metadata": {},
   "outputs": [
    {
     "data": {
      "text/plain": [
       "(array([0, 1, 2, 3, 4]),\n",
       " [Text(0, 0, '256 GB SSD'),\n",
       "  Text(1, 0, '512 GB SSD'),\n",
       "  Text(2, 0, '1 TB HDD256 GB SSD'),\n",
       "  Text(3, 0, '1 TB SSD'),\n",
       "  Text(4, 0, 'others')])"
      ]
     },
     "execution_count": 91,
     "metadata": {},
     "output_type": "execute_result"
    },
    {
     "data": {
      "image/png": "[encoded data removed]",
      "text/plain": [
       "<Figure size 1080x576 with 1 Axes>"
      ]
     },
     "metadata": {
      "needs_background": "light"
     },
     "output_type": "display_data"
    }
   ],
   "source": [
    "plt.figure(figsize=(15,8))\n",
    "sns.boxplot(x='Storage',y='MRP',data=df2)\n",
    "plt.xticks(rotation=90)"
   ]
  },
  {
   "cell_type": "code",
   "execution_count": 92,
   "id": "ae631939",
   "metadata": {},
   "outputs": [
    {
     "data": {
      "text/plain": [
       "(array([0, 1, 2, 3, 4, 5, 6, 7, 8, 9]),\n",
       " [Text(0, 0, 'Lenovo'),\n",
       "  Text(1, 0, 'ASUS'),\n",
       "  Text(2, 0, 'HP'),\n",
       "  Text(3, 0, 'DELL'),\n",
       "  Text(4, 0, 'RedmiBook'),\n",
       "  Text(5, 0, 'others'),\n",
       "  Text(6, 0, 'acer'),\n",
       "  Text(7, 0, 'MSI'),\n",
       "  Text(8, 0, 'APPLE'),\n",
       "  Text(9, 0, 'Infinix')])"
      ]
     },
     "execution_count": 92,
     "metadata": {},
     "output_type": "execute_result"
    },
    {
     "data": {
      "image/png": "[encoded data removed]",
      "text/plain": [
       "<Figure size 1080x576 with 1 Axes>"
      ]
     },
     "metadata": {
      "needs_background": "light"
     },
     "output_type": "display_data"
    }
   ],
   "source": [
    "plt.figure(figsize=(15,8))\n",
    "sns.boxplot(x='Brand',y='MRP',data=df2)\n",
    "plt.xticks(rotation=90)"
   ]
  },
  {
   "cell_type": "code",
   "execution_count": 93,
   "id": "92a1c8b7",
   "metadata": {},
   "outputs": [
    {
     "data": {
      "text/plain": [
       "(array([0, 1, 2, 3]),\n",
       " [Text(0, 0, '14'),\n",
       "  Text(1, 0, '15.6'),\n",
       "  Text(2, 0, 'unknown'),\n",
       "  Text(3, 0, 'others')])"
      ]
     },
     "execution_count": 93,
     "metadata": {},
     "output_type": "execute_result"
    },
    {
     "data": {
      "image/png": "[encoded data removed]",
      "text/plain": [
       "<Figure size 1080x576 with 1 Axes>"
      ]
     },
     "metadata": {
      "needs_background": "light"
     },
     "output_type": "display_data"
    }
   ],
   "source": [
    "plt.figure(figsize=(15,8))\n",
    "sns.boxplot(x='Screensize',y='MRP',data=df2)\n",
    "plt.xticks(rotation=90)"
   ]
  },
  {
   "cell_type": "code",
   "execution_count": 94,
   "id": "8a85bc7e",
   "metadata": {},
   "outputs": [
    {
     "data": {
      "text/plain": [
       "(array([0, 1, 2]),\n",
       " [Text(0, 0, 'DDR4'), Text(1, 0, 'DDR5'), Text(2, 0, 'others')])"
      ]
     },
     "execution_count": 94,
     "metadata": {},
     "output_type": "execute_result"
    },
    {
     "data": {
      "image/png": "[encoded data removed]",
      "text/plain": [
       "<Figure size 1080x576 with 1 Axes>"
      ]
     },
     "metadata": {
      "needs_background": "light"
     },
     "output_type": "display_data"
    }
   ],
   "source": [
    "plt.figure(figsize=(15,8))\n",
    "sns.boxplot(x='RAM type',y='MRP',data=df2)\n",
    "plt.xticks(rotation=90)"
   ]
  },
  {
   "cell_type": "markdown",
   "id": "4b84d624",
   "metadata": {},
   "source": [
    "# Modelling"
   ]
  },
  {
   "cell_type": "code",
   "execution_count": 95,
   "id": "4bee42a7",
   "metadata": {},
   "outputs": [
    {
     "data": {
      "text/html": [
       "<div>\n",
       "<style scoped>\n",
       "    .dataframe tbody tr th:only-of-type {\n",
       "        vertical-align: middle;\n",
       "    }\n",
       "\n",
       "    .dataframe tbody tr th {\n",
       "        vertical-align: top;\n",
       "    }\n",
       "\n",
       "    .dataframe thead th {\n",
       "        text-align: right;\n",
       "    }\n",
       "</style>\n",
       "<table border=\"1\" class=\"dataframe\">\n",
       "  <thead>\n",
       "    <tr style=\"text-align: right;\">\n",
       "      <th></th>\n",
       "      <th>MRP</th>\n",
       "      <th>Processor</th>\n",
       "      <th>RAM</th>\n",
       "      <th>RAM type</th>\n",
       "      <th>OS</th>\n",
       "      <th>Storage</th>\n",
       "      <th>Brand</th>\n",
       "      <th>Screensize</th>\n",
       "    </tr>\n",
       "  </thead>\n",
       "  <tbody>\n",
       "    <tr>\n",
       "      <th>0</th>\n",
       "      <td>10.518403</td>\n",
       "      <td>Intel Core i3</td>\n",
       "      <td>8 GB</td>\n",
       "      <td>DDR4</td>\n",
       "      <td>64 bit Windows 11</td>\n",
       "      <td>256 GB SSD</td>\n",
       "      <td>Lenovo</td>\n",
       "      <td>14</td>\n",
       "    </tr>\n",
       "    <tr>\n",
       "      <th>1</th>\n",
       "      <td>10.596385</td>\n",
       "      <td>Intel Core i3</td>\n",
       "      <td>8 GB</td>\n",
       "      <td>DDR4</td>\n",
       "      <td>64 bit Windows 11</td>\n",
       "      <td>512 GB SSD</td>\n",
       "      <td>Lenovo</td>\n",
       "      <td>15.6</td>\n",
       "    </tr>\n",
       "    <tr>\n",
       "      <th>2</th>\n",
       "      <td>10.403960</td>\n",
       "      <td>Intel Core i3</td>\n",
       "      <td>8 GB</td>\n",
       "      <td>DDR4</td>\n",
       "      <td>64 bit Windows 11</td>\n",
       "      <td>512 GB SSD</td>\n",
       "      <td>ASUS</td>\n",
       "      <td>15.6</td>\n",
       "    </tr>\n",
       "    <tr>\n",
       "      <th>3</th>\n",
       "      <td>10.819578</td>\n",
       "      <td>AMD Ryzen 5 Hexa Core</td>\n",
       "      <td>8 GB</td>\n",
       "      <td>DDR4</td>\n",
       "      <td>64 bit Windows 10</td>\n",
       "      <td>512 GB SSD</td>\n",
       "      <td>HP</td>\n",
       "      <td>15.6</td>\n",
       "    </tr>\n",
       "    <tr>\n",
       "      <th>4</th>\n",
       "      <td>10.819578</td>\n",
       "      <td>Intel Core i5</td>\n",
       "      <td>8 GB</td>\n",
       "      <td>DDR4</td>\n",
       "      <td>Windows 11</td>\n",
       "      <td>512 GB SSD</td>\n",
       "      <td>ASUS</td>\n",
       "      <td>15.6</td>\n",
       "    </tr>\n",
       "  </tbody>\n",
       "</table>\n",
       "</div>"
      ],
      "text/plain": [
       "         MRP               Processor   RAM RAM type                 OS  \\\n",
       "0  10.518403          Intel Core i3   8 GB     DDR4  64 bit Windows 11   \n",
       "1  10.596385          Intel Core i3   8 GB     DDR4  64 bit Windows 11   \n",
       "2  10.403960          Intel Core i3   8 GB     DDR4  64 bit Windows 11   \n",
       "3  10.819578  AMD Ryzen 5 Hexa Core   8 GB     DDR4  64 bit Windows 10   \n",
       "4  10.819578          Intel Core i5   8 GB     DDR4         Windows 11   \n",
       "\n",
       "      Storage   Brand Screensize  \n",
       "0  256 GB SSD  Lenovo         14  \n",
       "1  512 GB SSD  Lenovo       15.6  \n",
       "2  512 GB SSD    ASUS       15.6  \n",
       "3  512 GB SSD      HP       15.6  \n",
       "4  512 GB SSD    ASUS       15.6  "
      ]
     },
     "execution_count": 95,
     "metadata": {},
     "output_type": "execute_result"
    }
   ],
   "source": [
    "df2.head()"
   ]
  },
  {
   "cell_type": "code",
   "execution_count": 96,
   "id": "3ff35f4f",
   "metadata": {},
   "outputs": [
    {
     "data": {
      "text/plain": [
       "MRP           float64\n",
       "Processor      object\n",
       "RAM            object\n",
       "RAM type       object\n",
       "OS             object\n",
       "Storage        object\n",
       "Brand          object\n",
       "Screensize     object\n",
       "dtype: object"
      ]
     },
     "execution_count": 96,
     "metadata": {},
     "output_type": "execute_result"
    }
   ],
   "source": [
    "df2.dtypes"
   ]
  },
  {
   "cell_type": "code",
   "execution_count": 97,
   "id": "af7601d4",
   "metadata": {},
   "outputs": [],
   "source": [
    "x = df2[['Processor','RAM','OS','Storage','Brand','Screensize','RAM type']]"
   ]
  },
  {
   "cell_type": "code",
   "execution_count": 98,
   "id": "8f4dfc44",
   "metadata": {},
   "outputs": [],
   "source": [
    "y = df2['MRP']"
   ]
  },
  {
   "cell_type": "markdown",
   "id": "1d48658d",
   "metadata": {},
   "source": [
    "## train test split"
   ]
  },
  {
   "cell_type": "code",
   "execution_count": 99,
   "id": "33aa5df7",
   "metadata": {},
   "outputs": [
    {
     "name": "stdout",
     "output_type": "stream",
     "text": [
      "Requirement already satisfied: scikit-learn in c:\\users\\manis\\anaconda3\\lib\\site-packages (1.2.2)\n",
      "Requirement already satisfied: threadpoolctl>=2.0.0 in c:\\users\\manis\\anaconda3\\lib\\site-packages (from scikit-learn) (2.2.0)\n",
      "Requirement already satisfied: scipy>=1.3.2 in c:\\users\\manis\\anaconda3\\lib\\site-packages (from scikit-learn) (1.7.1)\n",
      "Requirement already satisfied: numpy>=1.17.3 in c:\\users\\manis\\anaconda3\\lib\\site-packages (from scikit-learn) (1.20.3)\n",
      "Requirement already satisfied: joblib>=1.1.1 in c:\\users\\manis\\anaconda3\\lib\\site-packages (from scikit-learn) (1.2.0)\n"
     ]
    }
   ],
   "source": [
    "!pip install -U scikit-learn"
   ]
  },
  {
   "cell_type": "code",
   "execution_count": 100,
   "id": "0340fef7",
   "metadata": {},
   "outputs": [],
   "source": [
    "import sklearn"
   ]
  },
  {
   "cell_type": "code",
   "execution_count": 101,
   "id": "1a8f9108",
   "metadata": {},
   "outputs": [
    {
     "name": "stdout",
     "output_type": "stream",
     "text": [
      "1.2.2\n"
     ]
    }
   ],
   "source": [
    "print(sklearn.__version__)"
   ]
  },
  {
   "cell_type": "code",
   "execution_count": 102,
   "id": "64e848f6",
   "metadata": {},
   "outputs": [],
   "source": [
    "from sklearn.model_selection import train_test_split"
   ]
  },
  {
   "cell_type": "code",
   "execution_count": 103,
   "id": "a54e38ed",
   "metadata": {},
   "outputs": [],
   "source": [
    "x_train,x_test,y_train,y_test = train_test_split(x,y,test_size=0.3)"
   ]
  },
  {
   "cell_type": "markdown",
   "id": "ab917f28",
   "metadata": {},
   "source": [
    "## data preprocessing in training data"
   ]
  },
  {
   "cell_type": "code",
   "execution_count": 104,
   "id": "73fe9f7c",
   "metadata": {},
   "outputs": [
    {
     "name": "stdout",
     "output_type": "stream",
     "text": [
      "(504, 7) (504,)\n",
      "(216, 7) (216,)\n"
     ]
    }
   ],
   "source": [
    "print(x_train.shape, y_train.shape)\n",
    "\n",
    "print(x_test.shape, y_test.shape)"
   ]
  },
  {
   "cell_type": "markdown",
   "id": "f7df12af",
   "metadata": {},
   "source": [
    "### data processing on x_train"
   ]
  },
  {
   "cell_type": "code",
   "execution_count": 105,
   "id": "e7a30d1e",
   "metadata": {},
   "outputs": [
    {
     "data": {
      "text/plain": [
       "Intel Core i5               0.204365\n",
       "Intel Core i3               0.194444\n",
       "AMD Ryzen 9 Octa Core       0.119048\n",
       "AMD Ryzen 7 Octa Core       0.101190\n",
       "AMD Ryzen 5 Hexa Core       0.081349\n",
       "Intel Core i7               0.065476\n",
       "unknown                     0.063492\n",
       "AMD Ryzen 5 Quad Core       0.053571\n",
       "AMD Ryzen 3 Dual Core       0.043651\n",
       "other                       0.041667\n",
       "Intel Celeron Dual Core     0.031746\n",
       "Name: Processor, dtype: float64"
      ]
     },
     "execution_count": 105,
     "metadata": {},
     "output_type": "execute_result"
    }
   ],
   "source": [
    "x_train['Processor'].value_counts(normalize=True)"
   ]
  },
  {
   "cell_type": "code",
   "execution_count": 106,
   "id": "4be0a2d3",
   "metadata": {},
   "outputs": [],
   "source": [
    "from sklearn.preprocessing import OneHotEncoder"
   ]
  },
  {
   "cell_type": "code",
   "execution_count": 107,
   "id": "d307a69f",
   "metadata": {},
   "outputs": [
    {
     "name": "stderr",
     "output_type": "stream",
     "text": [
      "C:\\Users\\manis\\anaconda3\\lib\\site-packages\\sklearn\\preprocessing\\_encoders.py:868: FutureWarning: `sparse` was renamed to `sparse_output` in version 1.2 and will be removed in 1.4. `sparse_output` is ignored unless you leave `sparse` to its default value.\n",
      "  warnings.warn(\n"
     ]
    },
    {
     "data": {
      "text/html": [
       "<div>\n",
       "<style scoped>\n",
       "    .dataframe tbody tr th:only-of-type {\n",
       "        vertical-align: middle;\n",
       "    }\n",
       "\n",
       "    .dataframe tbody tr th {\n",
       "        vertical-align: top;\n",
       "    }\n",
       "\n",
       "    .dataframe thead th {\n",
       "        text-align: right;\n",
       "    }\n",
       "</style>\n",
       "<table border=\"1\" class=\"dataframe\">\n",
       "  <thead>\n",
       "    <tr style=\"text-align: right;\">\n",
       "      <th></th>\n",
       "      <th>Processor_AMD Ryzen 5 Hexa Core</th>\n",
       "      <th>Processor_AMD Ryzen 5 Quad Core</th>\n",
       "      <th>Processor_AMD Ryzen 7 Octa Core</th>\n",
       "      <th>Processor_AMD Ryzen 9 Octa Core</th>\n",
       "      <th>Processor_Intel Celeron Dual Core</th>\n",
       "      <th>Processor_Intel Core i3</th>\n",
       "      <th>Processor_Intel Core i5</th>\n",
       "      <th>Processor_Intel Core i7</th>\n",
       "      <th>Processor_other</th>\n",
       "      <th>Processor_unknown</th>\n",
       "      <th>...</th>\n",
       "      <th>Brand_Lenovo</th>\n",
       "      <th>Brand_MSI</th>\n",
       "      <th>Brand_RedmiBook</th>\n",
       "      <th>Brand_acer</th>\n",
       "      <th>Brand_others</th>\n",
       "      <th>Screensize_15.6</th>\n",
       "      <th>Screensize_others</th>\n",
       "      <th>Screensize_unknown</th>\n",
       "      <th>RAM type_DDR5</th>\n",
       "      <th>RAM type_others</th>\n",
       "    </tr>\n",
       "  </thead>\n",
       "  <tbody>\n",
       "    <tr>\n",
       "      <th>15</th>\n",
       "      <td>0.0</td>\n",
       "      <td>0.0</td>\n",
       "      <td>0.0</td>\n",
       "      <td>1.0</td>\n",
       "      <td>0.0</td>\n",
       "      <td>0.0</td>\n",
       "      <td>0.0</td>\n",
       "      <td>0.0</td>\n",
       "      <td>0.0</td>\n",
       "      <td>0.0</td>\n",
       "      <td>...</td>\n",
       "      <td>0.0</td>\n",
       "      <td>0.0</td>\n",
       "      <td>0.0</td>\n",
       "      <td>0.0</td>\n",
       "      <td>0.0</td>\n",
       "      <td>1.0</td>\n",
       "      <td>0.0</td>\n",
       "      <td>0.0</td>\n",
       "      <td>1.0</td>\n",
       "      <td>0.0</td>\n",
       "    </tr>\n",
       "    <tr>\n",
       "      <th>340</th>\n",
       "      <td>0.0</td>\n",
       "      <td>0.0</td>\n",
       "      <td>0.0</td>\n",
       "      <td>1.0</td>\n",
       "      <td>0.0</td>\n",
       "      <td>0.0</td>\n",
       "      <td>0.0</td>\n",
       "      <td>0.0</td>\n",
       "      <td>0.0</td>\n",
       "      <td>0.0</td>\n",
       "      <td>...</td>\n",
       "      <td>0.0</td>\n",
       "      <td>0.0</td>\n",
       "      <td>0.0</td>\n",
       "      <td>0.0</td>\n",
       "      <td>0.0</td>\n",
       "      <td>1.0</td>\n",
       "      <td>0.0</td>\n",
       "      <td>0.0</td>\n",
       "      <td>1.0</td>\n",
       "      <td>0.0</td>\n",
       "    </tr>\n",
       "    <tr>\n",
       "      <th>599</th>\n",
       "      <td>0.0</td>\n",
       "      <td>0.0</td>\n",
       "      <td>0.0</td>\n",
       "      <td>1.0</td>\n",
       "      <td>0.0</td>\n",
       "      <td>0.0</td>\n",
       "      <td>0.0</td>\n",
       "      <td>0.0</td>\n",
       "      <td>0.0</td>\n",
       "      <td>0.0</td>\n",
       "      <td>...</td>\n",
       "      <td>0.0</td>\n",
       "      <td>0.0</td>\n",
       "      <td>0.0</td>\n",
       "      <td>0.0</td>\n",
       "      <td>0.0</td>\n",
       "      <td>1.0</td>\n",
       "      <td>0.0</td>\n",
       "      <td>0.0</td>\n",
       "      <td>0.0</td>\n",
       "      <td>0.0</td>\n",
       "    </tr>\n",
       "    <tr>\n",
       "      <th>608</th>\n",
       "      <td>0.0</td>\n",
       "      <td>0.0</td>\n",
       "      <td>0.0</td>\n",
       "      <td>0.0</td>\n",
       "      <td>0.0</td>\n",
       "      <td>0.0</td>\n",
       "      <td>1.0</td>\n",
       "      <td>0.0</td>\n",
       "      <td>0.0</td>\n",
       "      <td>0.0</td>\n",
       "      <td>...</td>\n",
       "      <td>0.0</td>\n",
       "      <td>0.0</td>\n",
       "      <td>0.0</td>\n",
       "      <td>0.0</td>\n",
       "      <td>0.0</td>\n",
       "      <td>0.0</td>\n",
       "      <td>0.0</td>\n",
       "      <td>0.0</td>\n",
       "      <td>0.0</td>\n",
       "      <td>0.0</td>\n",
       "    </tr>\n",
       "    <tr>\n",
       "      <th>183</th>\n",
       "      <td>0.0</td>\n",
       "      <td>0.0</td>\n",
       "      <td>0.0</td>\n",
       "      <td>0.0</td>\n",
       "      <td>0.0</td>\n",
       "      <td>0.0</td>\n",
       "      <td>0.0</td>\n",
       "      <td>0.0</td>\n",
       "      <td>1.0</td>\n",
       "      <td>0.0</td>\n",
       "      <td>...</td>\n",
       "      <td>0.0</td>\n",
       "      <td>0.0</td>\n",
       "      <td>0.0</td>\n",
       "      <td>0.0</td>\n",
       "      <td>0.0</td>\n",
       "      <td>0.0</td>\n",
       "      <td>0.0</td>\n",
       "      <td>0.0</td>\n",
       "      <td>0.0</td>\n",
       "      <td>1.0</td>\n",
       "    </tr>\n",
       "  </tbody>\n",
       "</table>\n",
       "<p>5 rows × 33 columns</p>\n",
       "</div>"
      ],
      "text/plain": [
       "     Processor_AMD Ryzen 5 Hexa Core   Processor_AMD Ryzen 5 Quad Core   \\\n",
       "15                                0.0                               0.0   \n",
       "340                               0.0                               0.0   \n",
       "599                               0.0                               0.0   \n",
       "608                               0.0                               0.0   \n",
       "183                               0.0                               0.0   \n",
       "\n",
       "     Processor_AMD Ryzen 7 Octa Core   Processor_AMD Ryzen 9 Octa Core   \\\n",
       "15                                0.0                               1.0   \n",
       "340                               0.0                               1.0   \n",
       "599                               0.0                               1.0   \n",
       "608                               0.0                               0.0   \n",
       "183                               0.0                               0.0   \n",
       "\n",
       "     Processor_Intel Celeron Dual Core   Processor_Intel Core i3   \\\n",
       "15                                  0.0                       0.0   \n",
       "340                                 0.0                       0.0   \n",
       "599                                 0.0                       0.0   \n",
       "608                                 0.0                       0.0   \n",
       "183                                 0.0                       0.0   \n",
       "\n",
       "     Processor_Intel Core i5   Processor_Intel Core i7   Processor_other  \\\n",
       "15                        0.0                       0.0              0.0   \n",
       "340                       0.0                       0.0              0.0   \n",
       "599                       0.0                       0.0              0.0   \n",
       "608                       1.0                       0.0              0.0   \n",
       "183                       0.0                       0.0              1.0   \n",
       "\n",
       "     Processor_unknown  ...  Brand_Lenovo  Brand_MSI  Brand_RedmiBook  \\\n",
       "15                 0.0  ...           0.0        0.0              0.0   \n",
       "340                0.0  ...           0.0        0.0              0.0   \n",
       "599                0.0  ...           0.0        0.0              0.0   \n",
       "608                0.0  ...           0.0        0.0              0.0   \n",
       "183                0.0  ...           0.0        0.0              0.0   \n",
       "\n",
       "     Brand_acer  Brand_others  Screensize_15.6  Screensize_others  \\\n",
       "15          0.0           0.0              1.0                0.0   \n",
       "340         0.0           0.0              1.0                0.0   \n",
       "599         0.0           0.0              1.0                0.0   \n",
       "608         0.0           0.0              0.0                0.0   \n",
       "183         0.0           0.0              0.0                0.0   \n",
       "\n",
       "     Screensize_unknown  RAM type_DDR5  RAM type_others  \n",
       "15                  0.0            1.0              0.0  \n",
       "340                 0.0            1.0              0.0  \n",
       "599                 0.0            0.0              0.0  \n",
       "608                 0.0            0.0              0.0  \n",
       "183                 0.0            0.0              1.0  \n",
       "\n",
       "[5 rows x 33 columns]"
      ]
     },
     "execution_count": 107,
     "metadata": {},
     "output_type": "execute_result"
    }
   ],
   "source": [
    "OHE = OneHotEncoder(drop = 'first',sparse=False)\n",
    "\n",
    "x_train_transformed = pd.DataFrame(OHE.fit_transform(x_train),columns = OHE.get_feature_names_out(x_train.columns),index = x_train.index )\n",
    "\n",
    "x_train_transformed.head()"
   ]
  },
  {
   "cell_type": "code",
   "execution_count": 108,
   "id": "d34b6c15",
   "metadata": {},
   "outputs": [
    {
     "data": {
      "text/plain": [
       "[array(['AMD Ryzen 3 Dual Core ', 'AMD Ryzen 5 Hexa Core ',\n",
       "        'AMD Ryzen 5 Quad Core ', 'AMD Ryzen 7 Octa Core ',\n",
       "        'AMD Ryzen 9 Octa Core ', 'Intel Celeron Dual Core ',\n",
       "        'Intel Core i3 ', 'Intel Core i5 ', 'Intel Core i7 ', 'other',\n",
       "        'unknown'], dtype=object),\n",
       " array(['16 GB', '8 GB', 'others'], dtype=object),\n",
       " array(['64 bit Windows 10', '64 bit Windows 11', 'Windows 11', 'others'],\n",
       "       dtype=object),\n",
       " array(['1 TB HDD256 GB SSD', '1 TB SSD', '256 GB SSD', '512 GB SSD',\n",
       "        'others'], dtype=object),\n",
       " array(['APPLE', 'ASUS', 'DELL', 'HP', 'Infinix', 'Lenovo', 'MSI',\n",
       "        'RedmiBook', 'acer', 'others'], dtype=object),\n",
       " array(['14', '15.6', 'others', 'unknown'], dtype=object),\n",
       " array(['DDR4', 'DDR5', 'others'], dtype=object)]"
      ]
     },
     "execution_count": 108,
     "metadata": {},
     "output_type": "execute_result"
    }
   ],
   "source": [
    "OHE.categories_"
   ]
  },
  {
   "cell_type": "markdown",
   "id": "adc3c8a4",
   "metadata": {},
   "source": [
    "### data processing on x_test"
   ]
  },
  {
   "cell_type": "code",
   "execution_count": 109,
   "id": "71709658",
   "metadata": {},
   "outputs": [
    {
     "data": {
      "text/html": [
       "<div>\n",
       "<style scoped>\n",
       "    .dataframe tbody tr th:only-of-type {\n",
       "        vertical-align: middle;\n",
       "    }\n",
       "\n",
       "    .dataframe tbody tr th {\n",
       "        vertical-align: top;\n",
       "    }\n",
       "\n",
       "    .dataframe thead th {\n",
       "        text-align: right;\n",
       "    }\n",
       "</style>\n",
       "<table border=\"1\" class=\"dataframe\">\n",
       "  <thead>\n",
       "    <tr style=\"text-align: right;\">\n",
       "      <th></th>\n",
       "      <th>Processor_AMD Ryzen 5 Hexa Core</th>\n",
       "      <th>Processor_AMD Ryzen 5 Quad Core</th>\n",
       "      <th>Processor_AMD Ryzen 7 Octa Core</th>\n",
       "      <th>Processor_AMD Ryzen 9 Octa Core</th>\n",
       "      <th>Processor_Intel Celeron Dual Core</th>\n",
       "      <th>Processor_Intel Core i3</th>\n",
       "      <th>Processor_Intel Core i5</th>\n",
       "      <th>Processor_Intel Core i7</th>\n",
       "      <th>Processor_other</th>\n",
       "      <th>Processor_unknown</th>\n",
       "      <th>...</th>\n",
       "      <th>Brand_Lenovo</th>\n",
       "      <th>Brand_MSI</th>\n",
       "      <th>Brand_RedmiBook</th>\n",
       "      <th>Brand_acer</th>\n",
       "      <th>Brand_others</th>\n",
       "      <th>Screensize_15.6</th>\n",
       "      <th>Screensize_others</th>\n",
       "      <th>Screensize_unknown</th>\n",
       "      <th>RAM type_DDR5</th>\n",
       "      <th>RAM type_others</th>\n",
       "    </tr>\n",
       "  </thead>\n",
       "  <tbody>\n",
       "    <tr>\n",
       "      <th>344</th>\n",
       "      <td>0.0</td>\n",
       "      <td>0.0</td>\n",
       "      <td>0.0</td>\n",
       "      <td>0.0</td>\n",
       "      <td>0.0</td>\n",
       "      <td>0.0</td>\n",
       "      <td>1.0</td>\n",
       "      <td>0.0</td>\n",
       "      <td>0.0</td>\n",
       "      <td>0.0</td>\n",
       "      <td>...</td>\n",
       "      <td>0.0</td>\n",
       "      <td>0.0</td>\n",
       "      <td>0.0</td>\n",
       "      <td>1.0</td>\n",
       "      <td>0.0</td>\n",
       "      <td>1.0</td>\n",
       "      <td>0.0</td>\n",
       "      <td>0.0</td>\n",
       "      <td>0.0</td>\n",
       "      <td>0.0</td>\n",
       "    </tr>\n",
       "    <tr>\n",
       "      <th>486</th>\n",
       "      <td>0.0</td>\n",
       "      <td>0.0</td>\n",
       "      <td>0.0</td>\n",
       "      <td>1.0</td>\n",
       "      <td>0.0</td>\n",
       "      <td>0.0</td>\n",
       "      <td>0.0</td>\n",
       "      <td>0.0</td>\n",
       "      <td>0.0</td>\n",
       "      <td>0.0</td>\n",
       "      <td>...</td>\n",
       "      <td>0.0</td>\n",
       "      <td>0.0</td>\n",
       "      <td>0.0</td>\n",
       "      <td>0.0</td>\n",
       "      <td>0.0</td>\n",
       "      <td>1.0</td>\n",
       "      <td>0.0</td>\n",
       "      <td>0.0</td>\n",
       "      <td>1.0</td>\n",
       "      <td>0.0</td>\n",
       "    </tr>\n",
       "    <tr>\n",
       "      <th>557</th>\n",
       "      <td>0.0</td>\n",
       "      <td>0.0</td>\n",
       "      <td>0.0</td>\n",
       "      <td>0.0</td>\n",
       "      <td>0.0</td>\n",
       "      <td>1.0</td>\n",
       "      <td>0.0</td>\n",
       "      <td>0.0</td>\n",
       "      <td>0.0</td>\n",
       "      <td>0.0</td>\n",
       "      <td>...</td>\n",
       "      <td>1.0</td>\n",
       "      <td>0.0</td>\n",
       "      <td>0.0</td>\n",
       "      <td>0.0</td>\n",
       "      <td>0.0</td>\n",
       "      <td>1.0</td>\n",
       "      <td>0.0</td>\n",
       "      <td>0.0</td>\n",
       "      <td>0.0</td>\n",
       "      <td>0.0</td>\n",
       "    </tr>\n",
       "    <tr>\n",
       "      <th>524</th>\n",
       "      <td>1.0</td>\n",
       "      <td>0.0</td>\n",
       "      <td>0.0</td>\n",
       "      <td>0.0</td>\n",
       "      <td>0.0</td>\n",
       "      <td>0.0</td>\n",
       "      <td>0.0</td>\n",
       "      <td>0.0</td>\n",
       "      <td>0.0</td>\n",
       "      <td>0.0</td>\n",
       "      <td>...</td>\n",
       "      <td>0.0</td>\n",
       "      <td>0.0</td>\n",
       "      <td>0.0</td>\n",
       "      <td>0.0</td>\n",
       "      <td>0.0</td>\n",
       "      <td>1.0</td>\n",
       "      <td>0.0</td>\n",
       "      <td>0.0</td>\n",
       "      <td>0.0</td>\n",
       "      <td>0.0</td>\n",
       "    </tr>\n",
       "    <tr>\n",
       "      <th>537</th>\n",
       "      <td>0.0</td>\n",
       "      <td>0.0</td>\n",
       "      <td>1.0</td>\n",
       "      <td>0.0</td>\n",
       "      <td>0.0</td>\n",
       "      <td>0.0</td>\n",
       "      <td>0.0</td>\n",
       "      <td>0.0</td>\n",
       "      <td>0.0</td>\n",
       "      <td>0.0</td>\n",
       "      <td>...</td>\n",
       "      <td>0.0</td>\n",
       "      <td>0.0</td>\n",
       "      <td>0.0</td>\n",
       "      <td>0.0</td>\n",
       "      <td>0.0</td>\n",
       "      <td>1.0</td>\n",
       "      <td>0.0</td>\n",
       "      <td>0.0</td>\n",
       "      <td>0.0</td>\n",
       "      <td>0.0</td>\n",
       "    </tr>\n",
       "  </tbody>\n",
       "</table>\n",
       "<p>5 rows × 33 columns</p>\n",
       "</div>"
      ],
      "text/plain": [
       "     Processor_AMD Ryzen 5 Hexa Core   Processor_AMD Ryzen 5 Quad Core   \\\n",
       "344                               0.0                               0.0   \n",
       "486                               0.0                               0.0   \n",
       "557                               0.0                               0.0   \n",
       "524                               1.0                               0.0   \n",
       "537                               0.0                               0.0   \n",
       "\n",
       "     Processor_AMD Ryzen 7 Octa Core   Processor_AMD Ryzen 9 Octa Core   \\\n",
       "344                               0.0                               0.0   \n",
       "486                               0.0                               1.0   \n",
       "557                               0.0                               0.0   \n",
       "524                               0.0                               0.0   \n",
       "537                               1.0                               0.0   \n",
       "\n",
       "     Processor_Intel Celeron Dual Core   Processor_Intel Core i3   \\\n",
       "344                                 0.0                       0.0   \n",
       "486                                 0.0                       0.0   \n",
       "557                                 0.0                       1.0   \n",
       "524                                 0.0                       0.0   \n",
       "537                                 0.0                       0.0   \n",
       "\n",
       "     Processor_Intel Core i5   Processor_Intel Core i7   Processor_other  \\\n",
       "344                       1.0                       0.0              0.0   \n",
       "486                       0.0                       0.0              0.0   \n",
       "557                       0.0                       0.0              0.0   \n",
       "524                       0.0                       0.0              0.0   \n",
       "537                       0.0                       0.0              0.0   \n",
       "\n",
       "     Processor_unknown  ...  Brand_Lenovo  Brand_MSI  Brand_RedmiBook  \\\n",
       "344                0.0  ...           0.0        0.0              0.0   \n",
       "486                0.0  ...           0.0        0.0              0.0   \n",
       "557                0.0  ...           1.0        0.0              0.0   \n",
       "524                0.0  ...           0.0        0.0              0.0   \n",
       "537                0.0  ...           0.0        0.0              0.0   \n",
       "\n",
       "     Brand_acer  Brand_others  Screensize_15.6  Screensize_others  \\\n",
       "344         1.0           0.0              1.0                0.0   \n",
       "486         0.0           0.0              1.0                0.0   \n",
       "557         0.0           0.0              1.0                0.0   \n",
       "524         0.0           0.0              1.0                0.0   \n",
       "537         0.0           0.0              1.0                0.0   \n",
       "\n",
       "     Screensize_unknown  RAM type_DDR5  RAM type_others  \n",
       "344                 0.0            0.0              0.0  \n",
       "486                 0.0            1.0              0.0  \n",
       "557                 0.0            0.0              0.0  \n",
       "524                 0.0            0.0              0.0  \n",
       "537                 0.0            0.0              0.0  \n",
       "\n",
       "[5 rows x 33 columns]"
      ]
     },
     "execution_count": 109,
     "metadata": {},
     "output_type": "execute_result"
    }
   ],
   "source": [
    "x_test_transformed = pd.DataFrame(OHE.transform(x_test),columns = OHE.get_feature_names_out(x_test.columns),index = x_test.index)\n",
    "\n",
    "x_test_transformed.head()"
   ]
  },
  {
   "cell_type": "markdown",
   "id": "6e434a90",
   "metadata": {},
   "source": [
    "# traning model Linear regression"
   ]
  },
  {
   "cell_type": "code",
   "execution_count": 110,
   "id": "807aae75",
   "metadata": {},
   "outputs": [],
   "source": [
    "from sklearn.linear_model import LinearRegression\n",
    "regressor = LinearRegression()\n"
   ]
  },
  {
   "cell_type": "code",
   "execution_count": 111,
   "id": "b419d71c",
   "metadata": {},
   "outputs": [
    {
     "data": {
      "text/html": [
       "<style>#sk-container-id-1 {color: black;background-color: white;}#sk-container-id-1 pre{padding: 0;}#sk-container-id-1 div.sk-toggleable {background-color: white;}#sk-container-id-1 label.sk-toggleable__label {cursor: pointer;display: block;width: 100%;margin-bottom: 0;padding: 0.3em;box-sizing: border-box;text-align: center;}#sk-container-id-1 label.sk-toggleable__label-arrow:before {content: \"▸\";float: left;margin-right: 0.25em;color: #696969;}#sk-container-id-1 label.sk-toggleable__label-arrow:hover:before {color: black;}#sk-container-id-1 div.sk-estimator:hover label.sk-toggleable__label-arrow:before {color: black;}#sk-container-id-1 div.sk-toggleable__content {max-height: 0;max-width: 0;overflow: hidden;text-align: left;background-color: #f0f8ff;}#sk-container-id-1 div.sk-toggleable__content pre {margin: 0.2em;color: black;border-radius: 0.25em;background-color: #f0f8ff;}#sk-container-id-1 input.sk-toggleable__control:checked~div.sk-toggleable__content {max-height: 200px;max-width: 100%;overflow: auto;}#sk-container-id-1 input.sk-toggleable__control:checked~label.sk-toggleable__label-arrow:before {content: \"▾\";}#sk-container-id-1 div.sk-estimator input.sk-toggleable__control:checked~label.sk-toggleable__label {background-color: #d4ebff;}#sk-container-id-1 div.sk-label input.sk-toggleable__control:checked~label.sk-toggleable__label {background-color: #d4ebff;}#sk-container-id-1 input.sk-hidden--visually {border: 0;clip: rect(1px 1px 1px 1px);clip: rect(1px, 1px, 1px, 1px);height: 1px;margin: -1px;overflow: hidden;padding: 0;position: absolute;width: 1px;}#sk-container-id-1 div.sk-estimator {font-family: monospace;background-color: #f0f8ff;border: 1px dotted black;border-radius: 0.25em;box-sizing: border-box;margin-bottom: 0.5em;}#sk-container-id-1 div.sk-estimator:hover {background-color: #d4ebff;}#sk-container-id-1 div.sk-parallel-item::after {content: \"\";width: 100%;border-bottom: 1px solid gray;flex-grow: 1;}#sk-container-id-1 div.sk-label:hover label.sk-toggleable__label {background-color: #d4ebff;}#sk-container-id-1 div.sk-serial::before {content: \"\";position: absolute;border-left: 1px solid gray;box-sizing: border-box;top: 0;bottom: 0;left: 50%;z-index: 0;}#sk-container-id-1 div.sk-serial {display: flex;flex-direction: column;align-items: center;background-color: white;padding-right: 0.2em;padding-left: 0.2em;position: relative;}#sk-container-id-1 div.sk-item {position: relative;z-index: 1;}#sk-container-id-1 div.sk-parallel {display: flex;align-items: stretch;justify-content: center;background-color: white;position: relative;}#sk-container-id-1 div.sk-item::before, #sk-container-id-1 div.sk-parallel-item::before {content: \"\";position: absolute;border-left: 1px solid gray;box-sizing: border-box;top: 0;bottom: 0;left: 50%;z-index: -1;}#sk-container-id-1 div.sk-parallel-item {display: flex;flex-direction: column;z-index: 1;position: relative;background-color: white;}#sk-container-id-1 div.sk-parallel-item:first-child::after {align-self: flex-end;width: 50%;}#sk-container-id-1 div.sk-parallel-item:last-child::after {align-self: flex-start;width: 50%;}#sk-container-id-1 div.sk-parallel-item:only-child::after {width: 0;}#sk-container-id-1 div.sk-dashed-wrapped {border: 1px dashed gray;margin: 0 0.4em 0.5em 0.4em;box-sizing: border-box;padding-bottom: 0.4em;background-color: white;}#sk-container-id-1 div.sk-label label {font-family: monospace;font-weight: bold;display: inline-block;line-height: 1.2em;}#sk-container-id-1 div.sk-label-container {text-align: center;}#sk-container-id-1 div.sk-container {/* jupyter's `normalize.less` sets `[hidden] { display: none; }` but bootstrap.min.css set `[hidden] { display: none !important; }` so we also need the `!important` here to be able to override the default hidden behavior on the sphinx rendered scikit-learn.org. See: https://github.com/scikit-learn/scikit-learn/issues/21755 */display: inline-block !important;position: relative;}#sk-container-id-1 div.sk-text-repr-fallback {display: none;}</style><div id=\"sk-container-id-1\" class=\"sk-top-container\"><div class=\"sk-text-repr-fallback\"><pre>LinearRegression()</pre><b>In a Jupyter environment, please rerun this cell to show the HTML representation or trust the notebook. <br />On GitHub, the HTML representation is unable to render, please try loading this page with nbviewer.org.</b></div><div class=\"sk-container\" hidden><div class=\"sk-item\"><div class=\"sk-estimator sk-toggleable\"><input class=\"sk-toggleable__control sk-hidden--visually\" id=\"sk-estimator-id-1\" type=\"checkbox\" checked><label for=\"sk-estimator-id-1\" class=\"sk-toggleable__label sk-toggleable__label-arrow\">LinearRegression</label><div class=\"sk-toggleable__content\"><pre>LinearRegression()</pre></div></div></div></div></div>"
      ],
      "text/plain": [
       "LinearRegression()"
      ]
     },
     "execution_count": 111,
     "metadata": {},
     "output_type": "execute_result"
    }
   ],
   "source": [
    "regressor.fit(x_train_transformed,y_train)"
   ]
  },
  {
   "cell_type": "markdown",
   "id": "7532dc9f",
   "metadata": {},
   "source": [
    "### predicting on unseen data"
   ]
  },
  {
   "cell_type": "code",
   "execution_count": 112,
   "id": "98b2d033",
   "metadata": {},
   "outputs": [],
   "source": [
    "y_test_predict = regressor.predict(x_test_transformed)"
   ]
  },
  {
   "cell_type": "markdown",
   "id": "01f406c3",
   "metadata": {},
   "source": [
    "### evaluation"
   ]
  },
  {
   "cell_type": "code",
   "execution_count": 113,
   "id": "17837e21",
   "metadata": {},
   "outputs": [],
   "source": [
    "from sklearn import metrics"
   ]
  },
  {
   "cell_type": "code",
   "execution_count": 114,
   "id": "2f67ed7b",
   "metadata": {},
   "outputs": [
    {
     "data": {
      "text/plain": [
       "0.15419710053734653"
      ]
     },
     "execution_count": 114,
     "metadata": {},
     "output_type": "execute_result"
    }
   ],
   "source": [
    "metrics.mean_absolute_error(y_test,y_test_predict)"
   ]
  },
  {
   "cell_type": "code",
   "execution_count": 115,
   "id": "8f27493e",
   "metadata": {},
   "outputs": [
    {
     "data": {
      "text/plain": [
       "0.8462323335430499"
      ]
     },
     "execution_count": 115,
     "metadata": {},
     "output_type": "execute_result"
    }
   ],
   "source": [
    "metrics.r2_score(y_test,y_test_predict)"
   ]
  },
  {
   "cell_type": "code",
   "execution_count": 116,
   "id": "913e66e5",
   "metadata": {},
   "outputs": [
    {
     "data": {
      "text/plain": [
       "0.06134553846983371"
      ]
     },
     "execution_count": 116,
     "metadata": {},
     "output_type": "execute_result"
    }
   ],
   "source": [
    "metrics.mean_squared_error(y_test,y_test_predict)"
   ]
  },
  {
   "cell_type": "code",
   "execution_count": 121,
   "id": "2b8230fe",
   "metadata": {},
   "outputs": [
    {
     "data": {
      "text/plain": [
       "0.3927375119024025"
      ]
     },
     "execution_count": 121,
     "metadata": {},
     "output_type": "execute_result"
    }
   ],
   "source": [
    "np.sqrt(metrics.mean_absolute_error(y_test,y_test_predict))"
   ]
  },
  {
   "cell_type": "code",
   "execution_count": 122,
   "id": "2649fa4c",
   "metadata": {},
   "outputs": [],
   "source": [
    "import pickle\n",
    "\n",
    "pickle.dump(regressor,open('laptop_analysis.pkl','wb'))"
   ]
  },
  {
   "cell_type": "code",
   "execution_count": 124,
   "id": "b8cd6ce1",
   "metadata": {},
   "outputs": [],
   "source": [
    "pickle.dump(df2,open('df2.pkl','wb'))"
   ]
  },
  {
   "cell_type": "code",
   "execution_count": 126,
   "id": "ec16734e",
   "metadata": {},
   "outputs": [],
   "source": [
    "pickle.dump(OHE,open('OHE.pkl','wb'))"
   ]
  },
  {
   "cell_type": "code",
   "execution_count": null,
   "id": "0152fb7a",
   "metadata": {},
   "outputs": [],
   "source": []
  }
 ],
 "metadata": {
  "kernelspec": {
   "display_name": "Python 3 (ipykernel)",
   "language": "python",
   "name": "python3"
  },
  "language_info": {
   "codemirror_mode": {
    "name": "ipython",
    "version": 3
   },
   "file_extension": ".py",
   "mimetype": "text/x-python",
   "name": "python",
   "nbconvert_exporter": "python",
   "pygments_lexer": "ipython3",
   "version": "3.9.7"
  }
 },
 "nbformat": 4,
 "nbformat_minor": 5
}
